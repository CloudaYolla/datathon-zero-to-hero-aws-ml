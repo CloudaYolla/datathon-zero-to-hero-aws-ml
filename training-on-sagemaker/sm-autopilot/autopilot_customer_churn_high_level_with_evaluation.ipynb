{
 "cells": [
  {
   "cell_type": "code",
   "execution_count": 1,
   "metadata": {},
   "outputs": [],
   "source": [
    "# Number of Autopilot candidates to evaluate and run batch transform jobs.\n",
    "# Make sure that you do not put a larger TOP_N_CANDIDATES than the Batch Transform limit for ml.m5.xlarge instances in your account.\n",
    "TOP_N_CANDIDATES = 5"
   ]
  },
  {
   "cell_type": "markdown",
   "metadata": {},
   "source": [
    "# Top Candidates Customer Churn Prediction with Amazon SageMaker Autopilot and Batch Transform (Python SDK)\n",
    "_**Using AutoPilot to Predict Mobile Customer Departure and Custom Evaluations with the Python SDK**_\n",
    "\n",
    "---\n",
    "\n",
    "---\n",
    "\n",
    "This notebook works with sagemaker python sdk 2.x\n",
    "\n",
    "## Contents\n",
    "\n",
    "1. [Introduction](#Introduction)\n",
    "1. [Setup](#Setup)\n",
    "1. [Data](#Data)\n",
    "1. [Train](#Settingup)\n",
    "1. [Autopilot Results](#Results)\n",
    "1. [Evaluate Top Candidates](#Evaluation)\n",
    "1. [Cleanup](#Cleanup)\n",
    "\n",
    "\n",
    "---\n",
    "\n",
    "## Introduction\n",
    "\n",
    "Amazon SageMaker Autopilot is an automated machine learning (commonly referred to as AutoML) solution for tabular datasets. You can use SageMaker Autopilot in different ways: on autopilot (hence the name) or with human guidance, without code through SageMaker Studio, or using the AWS SDKs. This notebook, as a first glimpse, will use the AWS SDKs to simply create and deploy a machine learning model.\n",
    "\n",
    "With the new feature released on 6/19/2020 (sagemaker python sdk >= 1.65.1), Autopilot generated models can be configured to return probabilities of each inference. This will enable data scientists to further analyze the performance of the model with additional metrics and to choose an appropriate threshold as operating point. This notebook demonstrate how to configure the model to obtain the inference probability (see [Customize the Inference Response](#Customize-the-Inference-Response)), select top N models, and make Batch Transform on a hold-out test set for evaluation. Note that this feature only works with Autopilot models created after the release of the new feature, i.e. after 6/19/2020, you will have to rerun Autopilot jobs to recreate the models in order to obtain the probability score during inference.\n",
    "\n",
    "Losing customers is costly for any business.  Identifying unhappy customers early on gives you a chance to offer them incentives to stay.  This notebook describes using machine learning (ML) for the automated identification of unhappy customers, also known as customer churn prediction. ML models rarely give perfect predictions though, so this notebook is also about how to incorporate the relative costs of prediction mistakes when determining the financial outcome of using ML.\n",
    "\n",
    "We use an example of churn that is familiar to all of us–leaving a mobile phone operator.  Seems like I can always find fault with my provider du jour! And if my provider knows that I’m thinking of leaving, it can offer timely incentives–I can always use a phone upgrade or perhaps have a new feature activated–and I might just stick around. Incentives are often much more cost effective than losing and reacquiring a customer.\n",
    "\n",
    "In this notebook, we use the high-level [SageMaker Python SDK](https://github.com/aws/sagemaker-python-sdk). There's also [another example notebook](https://github.com/awslabs/amazon-sagemaker-examples/blob/master/autopilot/autopilot_customer_churn.ipynb) with the same Customer Churn dataset that uses the [low-level Boto3 SDK](https://boto3.amazonaws.com/v1/documentation/api/latest/reference/services/sagemaker.html)\n",
    "\n",
    "---\n",
    "## Setup\n",
    "\n",
    "_This notebook was created and tested on an ml.t3.medium notebook instance._\n",
    "\n",
    "Let's start by specifying:\n",
    "\n",
    "- The S3 bucket and prefix that you want to use for training and model data.  This should be within the same region as the Notebook Instance, training, and hosting.\n",
    "- The IAM role arn used to give training and hosting access to your data. See the documentation for how to create these.  Note, if more than one role is required for notebook instances, training, and/or hosting, please replace the boto regexp with a the appropriate full IAM role arn string(s).\n",
    "- The number of top candidates (`TOP_N_CANDIDATES`) to explore and compare with different metrics  (AUC, Precision-recall and ROC) on the heldout data split. We demonstrate how to compute these metrics for each candidate by running transform jobs. (Note that `TOP_N_CANDIDATES` was defined in the first cell of this notebook). "
   ]
  },
  {
   "cell_type": "code",
   "execution_count": 2,
   "metadata": {},
   "outputs": [
    {
     "name": "stdout",
     "output_type": "stream",
     "text": [
      "/opt/conda/lib/python3.7/site-packages/secretstorage/dhcrypto.py:16: CryptographyDeprecationWarning: int_from_bytes is deprecated, use int.from_bytes instead\n",
      "  from cryptography.utils import int_from_bytes\n",
      "/opt/conda/lib/python3.7/site-packages/secretstorage/util.py:25: CryptographyDeprecationWarning: int_from_bytes is deprecated, use int.from_bytes instead\n",
      "  from cryptography.utils import int_from_bytes\n",
      "Requirement already satisfied: sagemaker in /opt/conda/lib/python3.7/site-packages (2.58.0)\n",
      "Collecting sagemaker\n",
      "  Downloading sagemaker-2.59.1.tar.gz (440 kB)\n",
      "\u001b[K     |████████████████████████████████| 440 kB 42.0 MB/s eta 0:00:01\n",
      "\u001b[?25hRequirement already satisfied: attrs in /opt/conda/lib/python3.7/site-packages (from sagemaker) (19.3.0)\n",
      "Requirement already satisfied: boto3>=1.16.32 in /opt/conda/lib/python3.7/site-packages (from sagemaker) (1.18.2)\n",
      "Requirement already satisfied: google-pasta in /opt/conda/lib/python3.7/site-packages (from sagemaker) (0.2.0)\n",
      "Requirement already satisfied: numpy>=1.9.0 in /opt/conda/lib/python3.7/site-packages (from sagemaker) (1.21.1)\n",
      "Requirement already satisfied: protobuf>=3.1 in /opt/conda/lib/python3.7/site-packages (from sagemaker) (3.17.3)\n",
      "Requirement already satisfied: protobuf3-to-dict>=0.1.5 in /opt/conda/lib/python3.7/site-packages (from sagemaker) (0.1.5)\n",
      "Requirement already satisfied: smdebug_rulesconfig==1.0.1 in /opt/conda/lib/python3.7/site-packages (from sagemaker) (1.0.1)\n",
      "Requirement already satisfied: importlib-metadata>=1.4.0 in /opt/conda/lib/python3.7/site-packages (from sagemaker) (1.5.0)\n",
      "Requirement already satisfied: packaging>=20.0 in /opt/conda/lib/python3.7/site-packages (from sagemaker) (20.1)\n",
      "Requirement already satisfied: pandas in /opt/conda/lib/python3.7/site-packages (from sagemaker) (1.3.1)\n",
      "Requirement already satisfied: pathos in /opt/conda/lib/python3.7/site-packages (from sagemaker) (0.2.8)\n",
      "Requirement already satisfied: jmespath<1.0.0,>=0.7.1 in /opt/conda/lib/python3.7/site-packages (from boto3>=1.16.32->sagemaker) (0.10.0)\n",
      "Requirement already satisfied: botocore<1.22.0,>=1.21.2 in /opt/conda/lib/python3.7/site-packages (from boto3>=1.16.32->sagemaker) (1.21.2)\n",
      "Requirement already satisfied: s3transfer<0.6.0,>=0.5.0 in /opt/conda/lib/python3.7/site-packages (from boto3>=1.16.32->sagemaker) (0.5.0)\n",
      "Requirement already satisfied: python-dateutil<3.0.0,>=2.1 in /opt/conda/lib/python3.7/site-packages (from botocore<1.22.0,>=1.21.2->boto3>=1.16.32->sagemaker) (2.8.1)\n",
      "Requirement already satisfied: urllib3<1.27,>=1.25.4 in /opt/conda/lib/python3.7/site-packages (from botocore<1.22.0,>=1.21.2->boto3>=1.16.32->sagemaker) (1.26.6)\n",
      "Requirement already satisfied: zipp>=0.5 in /opt/conda/lib/python3.7/site-packages (from importlib-metadata>=1.4.0->sagemaker) (2.2.0)\n",
      "Requirement already satisfied: pyparsing>=2.0.2 in /opt/conda/lib/python3.7/site-packages (from packaging>=20.0->sagemaker) (2.4.6)\n",
      "Requirement already satisfied: six in /opt/conda/lib/python3.7/site-packages (from packaging>=20.0->sagemaker) (1.14.0)\n",
      "Requirement already satisfied: pytz>=2017.3 in /opt/conda/lib/python3.7/site-packages (from pandas->sagemaker) (2021.1)\n",
      "Requirement already satisfied: pox>=0.3.0 in /opt/conda/lib/python3.7/site-packages (from pathos->sagemaker) (0.3.0)\n",
      "Requirement already satisfied: dill>=0.3.4 in /opt/conda/lib/python3.7/site-packages (from pathos->sagemaker) (0.3.4)\n",
      "Requirement already satisfied: multiprocess>=0.70.12 in /opt/conda/lib/python3.7/site-packages (from pathos->sagemaker) (0.70.12.2)\n",
      "Requirement already satisfied: ppft>=1.6.6.4 in /opt/conda/lib/python3.7/site-packages (from pathos->sagemaker) (1.6.6.4)\n",
      "Building wheels for collected packages: sagemaker\n",
      "  Building wheel for sagemaker (setup.py) ... \u001b[?25ldone\n",
      "\u001b[?25h  Created wheel for sagemaker: filename=sagemaker-2.59.1-py2.py3-none-any.whl size=616405 sha256=d89d9809e8f09a5fc390417afd3a5f06a051655067245946468e134177227712\n",
      "  Stored in directory: /root/.cache/pip/wheels/66/1d/e5/1fa39de6ea80e632091180726d717ba5b3539f39d44add7a95\n",
      "Successfully built sagemaker\n",
      "Installing collected packages: sagemaker\n",
      "  Attempting uninstall: sagemaker\n",
      "    Found existing installation: sagemaker 2.58.0\n",
      "    Uninstalling sagemaker-2.58.0:\n",
      "      Successfully uninstalled sagemaker-2.58.0\n",
      "Successfully installed sagemaker-2.59.1\n",
      "\u001b[33mWARNING: Running pip as the 'root' user can result in broken permissions and conflicting behaviour with the system package manager. It is recommended to use a virtual environment instead: https://pip.pypa.io/warnings/venv\u001b[0m\n",
      "\u001b[33mWARNING: You are using pip version 21.1.3; however, version 21.2.4 is available.\n",
      "You should consider upgrading via the '/opt/conda/bin/python -m pip install --upgrade pip' command.\u001b[0m\n"
     ]
    }
   ],
   "source": [
    "# to get the latest sagemaker python sdk\n",
    "!pip install -U sagemaker"
   ]
  },
  {
   "cell_type": "code",
   "execution_count": 3,
   "metadata": {
    "isConfigCell": true,
    "tags": [
     "parameters"
    ]
   },
   "outputs": [
    {
     "name": "stdout",
     "output_type": "stream",
     "text": [
      "2.59.1\n"
     ]
    }
   ],
   "source": [
    "import sagemaker\n",
    "import boto3\n",
    "from sagemaker import get_execution_role\n",
    "\n",
    "print(sagemaker.__version__)\n",
    "\n",
    "region = boto3.Session().region_name\n",
    "\n",
    "session = sagemaker.Session()\n",
    "\n",
    "# You can modify the following to use a bucket of your choosing\n",
    "bucket = session.default_bucket()\n",
    "prefix = \"sagemaker/DEMO-autopilot-churn-SDK\"\n",
    "\n",
    "role = get_execution_role()\n",
    "\n",
    "sm = boto3.Session().client(service_name=\"sagemaker\", region_name=region)"
   ]
  },
  {
   "cell_type": "markdown",
   "metadata": {},
   "source": [
    "Next, we'll import the Python libraries we'll need for the remainder of the exercise."
   ]
  },
  {
   "cell_type": "code",
   "execution_count": 4,
   "metadata": {},
   "outputs": [],
   "source": [
    "import pandas as pd\n",
    "import numpy as np\n",
    "import matplotlib.pyplot as plt\n",
    "from sagemaker import AutoML\n",
    "from time import gmtime, strftime, sleep\n",
    "from pprint import pprint\n",
    "import json\n",
    "import io\n",
    "from urllib.parse import urlparse\n",
    "from sklearn.metrics import (\n",
    "    roc_auc_score,\n",
    "    roc_curve,\n",
    "    precision_recall_curve,\n",
    "    classification_report,\n",
    "    average_precision_score,\n",
    "    precision_score,\n",
    "    recall_score,\n",
    ")\n",
    "import matplotlib.pyplot as plt"
   ]
  },
  {
   "cell_type": "markdown",
   "metadata": {},
   "source": [
    "---\n",
    "## Data\n",
    "\n",
    "Mobile operators have historical records on which customers ultimately ended up churning and which continued using the service. We can use this historical information to construct an ML model of one mobile operator’s churn using a process called training. After training the model, we can pass the profile information of an arbitrary customer (the same profile information that we used to train the model) to the model, and have the model predict whether this customer is going to churn. Of course, we expect the model to make mistakes–after all, predicting the future is tricky business! But I’ll also show how to deal with prediction errors.\n",
    "\n",
    "The dataset we will use is synthetically generated, but indictive of the types of features you'd see in this use case."
   ]
  },
  {
   "cell_type": "code",
   "execution_count": 5,
   "metadata": {},
   "outputs": [
    {
     "name": "stdout",
     "output_type": "stream",
     "text": [
      "download: s3://sagemaker-sample-files/datasets/tabular/synthetic/churn.txt to ./churn.txt\n"
     ]
    }
   ],
   "source": [
    "!aws s3 cp s3://sagemaker-sample-files/datasets/tabular/synthetic/churn.txt ./"
   ]
  },
  {
   "cell_type": "markdown",
   "metadata": {},
   "source": [
    "### Inspect your Dataset\n",
    "\n",
    "Before you run Autopilot on the dataset, first perform a check of the dataset to make sure that it has no obvious errors. The Autopilot process can take long time, and it's generally a good practice to inspect the dataset before you start a job. This particular dataset is small, so you can inspect it in the notebook instance itself. If you have a larger dataset that will not fit in a notebook instance memory, inspect the dataset offline using a big data analytics tool like Apache Spark. [Deequ](https://github.com/awslabs/deequ) is a library built on top of Apache Spark that can be helpful for performing checks on large datasets. Autopilot is capable of handling datasets up to 5 GB.\n",
    "\n",
    "Read the data into a Pandas data frame and take a look."
   ]
  },
  {
   "cell_type": "code",
   "execution_count": 6,
   "metadata": {},
   "outputs": [
    {
     "data": {
      "text/html": [
       "<div>\n",
       "<style scoped>\n",
       "    .dataframe tbody tr th:only-of-type {\n",
       "        vertical-align: middle;\n",
       "    }\n",
       "\n",
       "    .dataframe tbody tr th {\n",
       "        vertical-align: top;\n",
       "    }\n",
       "\n",
       "    .dataframe thead th {\n",
       "        text-align: right;\n",
       "    }\n",
       "</style>\n",
       "<table border=\"1\" class=\"dataframe\">\n",
       "  <thead>\n",
       "    <tr style=\"text-align: right;\">\n",
       "      <th></th>\n",
       "      <th>State</th>\n",
       "      <th>Account Length</th>\n",
       "      <th>Area Code</th>\n",
       "      <th>Phone</th>\n",
       "      <th>Int'l Plan</th>\n",
       "      <th>VMail Plan</th>\n",
       "      <th>VMail Message</th>\n",
       "      <th>Day Mins</th>\n",
       "      <th>Day Calls</th>\n",
       "      <th>Day Charge</th>\n",
       "      <th>Eve Mins</th>\n",
       "      <th>Eve Calls</th>\n",
       "      <th>Eve Charge</th>\n",
       "      <th>Night Mins</th>\n",
       "      <th>Night Calls</th>\n",
       "      <th>Night Charge</th>\n",
       "      <th>Intl Mins</th>\n",
       "      <th>Intl Calls</th>\n",
       "      <th>Intl Charge</th>\n",
       "      <th>CustServ Calls</th>\n",
       "      <th>Churn?</th>\n",
       "    </tr>\n",
       "  </thead>\n",
       "  <tbody>\n",
       "    <tr>\n",
       "      <th>0</th>\n",
       "      <td>PA</td>\n",
       "      <td>163</td>\n",
       "      <td>806</td>\n",
       "      <td>403-2562</td>\n",
       "      <td>no</td>\n",
       "      <td>yes</td>\n",
       "      <td>300</td>\n",
       "      <td>8.162204</td>\n",
       "      <td>3</td>\n",
       "      <td>7.579174</td>\n",
       "      <td>3.933035</td>\n",
       "      <td>4</td>\n",
       "      <td>6.508639</td>\n",
       "      <td>4.065759</td>\n",
       "      <td>100</td>\n",
       "      <td>5.111624</td>\n",
       "      <td>4.928160</td>\n",
       "      <td>6</td>\n",
       "      <td>5.673203</td>\n",
       "      <td>3</td>\n",
       "      <td>True.</td>\n",
       "    </tr>\n",
       "    <tr>\n",
       "      <th>1</th>\n",
       "      <td>SC</td>\n",
       "      <td>15</td>\n",
       "      <td>836</td>\n",
       "      <td>158-8416</td>\n",
       "      <td>yes</td>\n",
       "      <td>no</td>\n",
       "      <td>0</td>\n",
       "      <td>10.018993</td>\n",
       "      <td>4</td>\n",
       "      <td>4.226289</td>\n",
       "      <td>2.325005</td>\n",
       "      <td>0</td>\n",
       "      <td>9.972592</td>\n",
       "      <td>7.141040</td>\n",
       "      <td>200</td>\n",
       "      <td>6.436188</td>\n",
       "      <td>3.221748</td>\n",
       "      <td>6</td>\n",
       "      <td>2.559749</td>\n",
       "      <td>8</td>\n",
       "      <td>False.</td>\n",
       "    </tr>\n",
       "    <tr>\n",
       "      <th>2</th>\n",
       "      <td>MO</td>\n",
       "      <td>131</td>\n",
       "      <td>777</td>\n",
       "      <td>896-6253</td>\n",
       "      <td>no</td>\n",
       "      <td>yes</td>\n",
       "      <td>300</td>\n",
       "      <td>4.708490</td>\n",
       "      <td>3</td>\n",
       "      <td>4.768160</td>\n",
       "      <td>4.537466</td>\n",
       "      <td>3</td>\n",
       "      <td>4.566715</td>\n",
       "      <td>5.363235</td>\n",
       "      <td>100</td>\n",
       "      <td>5.142451</td>\n",
       "      <td>7.139023</td>\n",
       "      <td>2</td>\n",
       "      <td>6.254157</td>\n",
       "      <td>4</td>\n",
       "      <td>False.</td>\n",
       "    </tr>\n",
       "    <tr>\n",
       "      <th>3</th>\n",
       "      <td>WY</td>\n",
       "      <td>75</td>\n",
       "      <td>878</td>\n",
       "      <td>817-5729</td>\n",
       "      <td>yes</td>\n",
       "      <td>yes</td>\n",
       "      <td>700</td>\n",
       "      <td>1.268734</td>\n",
       "      <td>3</td>\n",
       "      <td>2.567642</td>\n",
       "      <td>2.528748</td>\n",
       "      <td>5</td>\n",
       "      <td>2.333624</td>\n",
       "      <td>3.773586</td>\n",
       "      <td>450</td>\n",
       "      <td>3.814413</td>\n",
       "      <td>2.245779</td>\n",
       "      <td>6</td>\n",
       "      <td>1.080692</td>\n",
       "      <td>6</td>\n",
       "      <td>False.</td>\n",
       "    </tr>\n",
       "    <tr>\n",
       "      <th>4</th>\n",
       "      <td>WY</td>\n",
       "      <td>146</td>\n",
       "      <td>878</td>\n",
       "      <td>450-4942</td>\n",
       "      <td>yes</td>\n",
       "      <td>no</td>\n",
       "      <td>0</td>\n",
       "      <td>2.696177</td>\n",
       "      <td>3</td>\n",
       "      <td>5.908916</td>\n",
       "      <td>6.015337</td>\n",
       "      <td>3</td>\n",
       "      <td>3.670408</td>\n",
       "      <td>3.751673</td>\n",
       "      <td>250</td>\n",
       "      <td>2.796812</td>\n",
       "      <td>6.905545</td>\n",
       "      <td>4</td>\n",
       "      <td>7.134343</td>\n",
       "      <td>6</td>\n",
       "      <td>True.</td>\n",
       "    </tr>\n",
       "    <tr>\n",
       "      <th>...</th>\n",
       "      <td>...</td>\n",
       "      <td>...</td>\n",
       "      <td>...</td>\n",
       "      <td>...</td>\n",
       "      <td>...</td>\n",
       "      <td>...</td>\n",
       "      <td>...</td>\n",
       "      <td>...</td>\n",
       "      <td>...</td>\n",
       "      <td>...</td>\n",
       "      <td>...</td>\n",
       "      <td>...</td>\n",
       "      <td>...</td>\n",
       "      <td>...</td>\n",
       "      <td>...</td>\n",
       "      <td>...</td>\n",
       "      <td>...</td>\n",
       "      <td>...</td>\n",
       "      <td>...</td>\n",
       "      <td>...</td>\n",
       "      <td>...</td>\n",
       "    </tr>\n",
       "    <tr>\n",
       "      <th>4995</th>\n",
       "      <td>NH</td>\n",
       "      <td>4</td>\n",
       "      <td>787</td>\n",
       "      <td>151-3162</td>\n",
       "      <td>yes</td>\n",
       "      <td>yes</td>\n",
       "      <td>800</td>\n",
       "      <td>10.862632</td>\n",
       "      <td>5</td>\n",
       "      <td>7.250969</td>\n",
       "      <td>6.936164</td>\n",
       "      <td>1</td>\n",
       "      <td>8.026482</td>\n",
       "      <td>4.921314</td>\n",
       "      <td>350</td>\n",
       "      <td>6.748489</td>\n",
       "      <td>4.872570</td>\n",
       "      <td>8</td>\n",
       "      <td>2.122530</td>\n",
       "      <td>9</td>\n",
       "      <td>False.</td>\n",
       "    </tr>\n",
       "    <tr>\n",
       "      <th>4996</th>\n",
       "      <td>SD</td>\n",
       "      <td>140</td>\n",
       "      <td>836</td>\n",
       "      <td>351-5993</td>\n",
       "      <td>no</td>\n",
       "      <td>no</td>\n",
       "      <td>0</td>\n",
       "      <td>1.581127</td>\n",
       "      <td>8</td>\n",
       "      <td>3.758307</td>\n",
       "      <td>7.377591</td>\n",
       "      <td>7</td>\n",
       "      <td>1.328827</td>\n",
       "      <td>0.939932</td>\n",
       "      <td>300</td>\n",
       "      <td>4.522661</td>\n",
       "      <td>6.938571</td>\n",
       "      <td>2</td>\n",
       "      <td>4.600473</td>\n",
       "      <td>4</td>\n",
       "      <td>False.</td>\n",
       "    </tr>\n",
       "    <tr>\n",
       "      <th>4997</th>\n",
       "      <td>SC</td>\n",
       "      <td>32</td>\n",
       "      <td>836</td>\n",
       "      <td>370-3127</td>\n",
       "      <td>no</td>\n",
       "      <td>yes</td>\n",
       "      <td>700</td>\n",
       "      <td>0.163836</td>\n",
       "      <td>5</td>\n",
       "      <td>4.243980</td>\n",
       "      <td>5.841852</td>\n",
       "      <td>3</td>\n",
       "      <td>2.340554</td>\n",
       "      <td>0.939469</td>\n",
       "      <td>450</td>\n",
       "      <td>5.157898</td>\n",
       "      <td>4.388328</td>\n",
       "      <td>7</td>\n",
       "      <td>1.060340</td>\n",
       "      <td>6</td>\n",
       "      <td>False.</td>\n",
       "    </tr>\n",
       "    <tr>\n",
       "      <th>4998</th>\n",
       "      <td>MA</td>\n",
       "      <td>142</td>\n",
       "      <td>776</td>\n",
       "      <td>604-2108</td>\n",
       "      <td>yes</td>\n",
       "      <td>yes</td>\n",
       "      <td>600</td>\n",
       "      <td>2.034454</td>\n",
       "      <td>5</td>\n",
       "      <td>3.014859</td>\n",
       "      <td>4.140554</td>\n",
       "      <td>3</td>\n",
       "      <td>3.470372</td>\n",
       "      <td>6.076043</td>\n",
       "      <td>150</td>\n",
       "      <td>4.362780</td>\n",
       "      <td>7.173376</td>\n",
       "      <td>3</td>\n",
       "      <td>4.871900</td>\n",
       "      <td>7</td>\n",
       "      <td>True.</td>\n",
       "    </tr>\n",
       "    <tr>\n",
       "      <th>4999</th>\n",
       "      <td>AL</td>\n",
       "      <td>141</td>\n",
       "      <td>657</td>\n",
       "      <td>294-2849</td>\n",
       "      <td>yes</td>\n",
       "      <td>yes</td>\n",
       "      <td>500</td>\n",
       "      <td>1.803907</td>\n",
       "      <td>0</td>\n",
       "      <td>5.125716</td>\n",
       "      <td>8.357508</td>\n",
       "      <td>0</td>\n",
       "      <td>2.109823</td>\n",
       "      <td>2.624299</td>\n",
       "      <td>400</td>\n",
       "      <td>3.713631</td>\n",
       "      <td>5.798783</td>\n",
       "      <td>6</td>\n",
       "      <td>5.485345</td>\n",
       "      <td>7</td>\n",
       "      <td>False.</td>\n",
       "    </tr>\n",
       "  </tbody>\n",
       "</table>\n",
       "<p>5000 rows × 21 columns</p>\n",
       "</div>"
      ],
      "text/plain": [
       "     State  Account Length  Area Code     Phone Int'l Plan VMail Plan  \\\n",
       "0       PA             163        806  403-2562         no        yes   \n",
       "1       SC              15        836  158-8416        yes         no   \n",
       "2       MO             131        777  896-6253         no        yes   \n",
       "3       WY              75        878  817-5729        yes        yes   \n",
       "4       WY             146        878  450-4942        yes         no   \n",
       "...    ...             ...        ...       ...        ...        ...   \n",
       "4995    NH               4        787  151-3162        yes        yes   \n",
       "4996    SD             140        836  351-5993         no         no   \n",
       "4997    SC              32        836  370-3127         no        yes   \n",
       "4998    MA             142        776  604-2108        yes        yes   \n",
       "4999    AL             141        657  294-2849        yes        yes   \n",
       "\n",
       "      VMail Message   Day Mins  Day Calls  Day Charge  Eve Mins  Eve Calls  \\\n",
       "0               300   8.162204          3    7.579174  3.933035          4   \n",
       "1                 0  10.018993          4    4.226289  2.325005          0   \n",
       "2               300   4.708490          3    4.768160  4.537466          3   \n",
       "3               700   1.268734          3    2.567642  2.528748          5   \n",
       "4                 0   2.696177          3    5.908916  6.015337          3   \n",
       "...             ...        ...        ...         ...       ...        ...   \n",
       "4995            800  10.862632          5    7.250969  6.936164          1   \n",
       "4996              0   1.581127          8    3.758307  7.377591          7   \n",
       "4997            700   0.163836          5    4.243980  5.841852          3   \n",
       "4998            600   2.034454          5    3.014859  4.140554          3   \n",
       "4999            500   1.803907          0    5.125716  8.357508          0   \n",
       "\n",
       "      Eve Charge  Night Mins  Night Calls  Night Charge  Intl Mins  \\\n",
       "0       6.508639    4.065759          100      5.111624   4.928160   \n",
       "1       9.972592    7.141040          200      6.436188   3.221748   \n",
       "2       4.566715    5.363235          100      5.142451   7.139023   \n",
       "3       2.333624    3.773586          450      3.814413   2.245779   \n",
       "4       3.670408    3.751673          250      2.796812   6.905545   \n",
       "...          ...         ...          ...           ...        ...   \n",
       "4995    8.026482    4.921314          350      6.748489   4.872570   \n",
       "4996    1.328827    0.939932          300      4.522661   6.938571   \n",
       "4997    2.340554    0.939469          450      5.157898   4.388328   \n",
       "4998    3.470372    6.076043          150      4.362780   7.173376   \n",
       "4999    2.109823    2.624299          400      3.713631   5.798783   \n",
       "\n",
       "      Intl Calls  Intl Charge  CustServ Calls  Churn?  \n",
       "0              6     5.673203               3   True.  \n",
       "1              6     2.559749               8  False.  \n",
       "2              2     6.254157               4  False.  \n",
       "3              6     1.080692               6  False.  \n",
       "4              4     7.134343               6   True.  \n",
       "...          ...          ...             ...     ...  \n",
       "4995           8     2.122530               9  False.  \n",
       "4996           2     4.600473               4  False.  \n",
       "4997           7     1.060340               6  False.  \n",
       "4998           3     4.871900               7   True.  \n",
       "4999           6     5.485345               7  False.  \n",
       "\n",
       "[5000 rows x 21 columns]"
      ]
     },
     "execution_count": 6,
     "metadata": {},
     "output_type": "execute_result"
    }
   ],
   "source": [
    "churn = pd.read_csv(\"./churn.txt\")\n",
    "pd.set_option(\"display.max_columns\", 500)\n",
    "churn"
   ]
  },
  {
   "cell_type": "markdown",
   "metadata": {},
   "source": [
    "By modern standards, it’s a relatively small dataset, with only 5,000 records, where each record uses 21 attributes to describe the profile of a customer of an unknown US mobile operator. The attributes are:\n",
    "\n",
    "- `State`: the US state in which the customer resides, indicated by a two-letter abbreviation; for example, OH or NJ\n",
    "- `Account Length`: the number of days that this account has been active\n",
    "- `Area Code`: the three-digit area code of the corresponding customer’s phone number\n",
    "- `Phone`: the remaining seven-digit phone number\n",
    "- `Int’l Plan`: whether the customer has an international calling plan: yes/no\n",
    "- `VMail Plan`: whether the customer has a voice mail feature: yes/no\n",
    "- `VMail Message`: presumably the average number of voice mail messages per month\n",
    "- `Day Mins`: the total number of calling minutes used during the day\n",
    "- `Day Calls`: the total number of calls placed during the day\n",
    "- `Day Charge`: the billed cost of daytime calls\n",
    "- `Eve Mins, Eve Calls, Eve Charge`: the billed cost for calls placed during the evening\n",
    "- `Night Mins`, `Night Calls`, `Night Charge`: the billed cost for calls placed during nighttime\n",
    "- `Intl Mins`, `Intl Calls`, `Intl Charge`: the billed cost for international calls\n",
    "- `CustServ Calls`: the number of calls placed to Customer Service\n",
    "- `Churn?`: whether the customer left the service: true/false\n",
    "\n",
    "The last attribute, `Churn?`, is known as the target attribute–the attribute that we want the ML model to predict."
   ]
  },
  {
   "cell_type": "markdown",
   "metadata": {},
   "source": [
    "### Reserve some data for calling inference on the model\n",
    "\n",
    "Divide the data into training and testing splits. The training split is used by SageMaker Autopilot. The testing split is reserved to perform inference using the suggested model."
   ]
  },
  {
   "cell_type": "code",
   "execution_count": 7,
   "metadata": {},
   "outputs": [],
   "source": [
    "train_data = churn.sample(frac=0.8, random_state=200)\n",
    "\n",
    "test_data = churn.drop(train_data.index)\n",
    "\n",
    "test_data_no_target = test_data.drop(columns=[\"Churn?\"])"
   ]
  },
  {
   "cell_type": "markdown",
   "metadata": {},
   "source": [
    "Let's save these train and test data splits to csv files locally"
   ]
  },
  {
   "cell_type": "code",
   "execution_count": 8,
   "metadata": {},
   "outputs": [],
   "source": [
    "train_file = \"train_data.csv\"\n",
    "train_data.to_csv(train_file, index=False, header=True)\n",
    "\n",
    "test_file = \"test_data.csv\"\n",
    "test_data_no_target.to_csv(test_file, index=False, header=False)"
   ]
  },
  {
   "cell_type": "markdown",
   "metadata": {},
   "source": [
    "## Setting up the SageMaker Autopilot Job<a name=\"Settingup\"></a>\n",
    "\n",
    "We will use the `AutoML` estimator from SageMaker Python SDK to invoke Autopilot to find the best ML pipeline to train a model on this dataset. \n",
    "\n",
    "The required inputs for invoking a Autopilot job are:\n",
    "* local or s3 location for input dataset (if local, the dataset will be uploaded to s3)\n",
    "* Name of the column of the dataset you want to predict (`Churn?` in this case) \n",
    "* An IAM role\n",
    "\n",
    "Currently Autopilot supports only tabular datasets in CSV format. Either all files should have a header row, or the first file of the dataset, when sorted in alphabetical/lexical order by name, is expected to have a header row."
   ]
  },
  {
   "cell_type": "code",
   "execution_count": 9,
   "metadata": {},
   "outputs": [],
   "source": [
    "from sagemaker import AutoML\n",
    "from time import gmtime, strftime, sleep\n",
    "\n",
    "timestamp_suffix = strftime(\"%d-%H-%M-%S\", gmtime())\n",
    "base_job_name = \"automl-churn-sdk-\" + timestamp_suffix\n",
    "\n",
    "target_attribute_name = \"Churn?\"\n",
    "target_attribute_values = np.unique(train_data[target_attribute_name])\n",
    "target_attribute_true_value = target_attribute_values[1]  # 'True.'\n",
    "\n",
    "automl = AutoML(\n",
    "    role=role,\n",
    "    target_attribute_name=target_attribute_name,\n",
    "    base_job_name=base_job_name,\n",
    "    sagemaker_session=session,\n",
    "    max_candidates=20,\n",
    ")"
   ]
  },
  {
   "cell_type": "markdown",
   "metadata": {},
   "source": [
    "You can also specify the type of problem you want to solve with your dataset (`Regression, MulticlassClassification, BinaryClassification`) with the `problem_type` keywork argument. In case you are not sure, SageMaker Autopilot will infer the problem type based on statistics of the target column (the column you want to predict). \n",
    "\n",
    "Because the target attribute, ```Churn?```, is binary, our model will be performing binary prediction, also known as binary classification. In this example we will let AutoPilot infer the type of problem for us.\n",
    "\n",
    "You have the option to limit the running time of a SageMaker Autopilot job by providing either the maximum number of pipeline evaluations or candidates (one pipeline evaluation is called a `Candidate` because it generates a candidate model) or providing the total time allocated for the overall Autopilot job. Under default settings, this job takes about four hours to run. This varies between runs because of the nature of the exploratory process Autopilot uses to find optimal training parameters.\n",
    "\n",
    "We limit the number of candidates to 20 so that the job finishes in a few minutes."
   ]
  },
  {
   "cell_type": "markdown",
   "metadata": {},
   "source": [
    "### Launching the SageMaker Autopilot Job<a name=\"Launching\"></a>\n",
    "\n",
    "You can now launch the Autopilot job by calling the `fit` method of the `AutoML` estimator."
   ]
  },
  {
   "cell_type": "code",
   "execution_count": 10,
   "metadata": {},
   "outputs": [],
   "source": [
    "automl.fit(train_file, job_name=base_job_name, wait=False, logs=False)"
   ]
  },
  {
   "cell_type": "markdown",
   "metadata": {},
   "source": [
    "### Tracking SageMaker Autopilot Job Progress<a name=\"Tracking\"></a>\n",
    "SageMaker Autopilot job consists of the following high-level steps : \n",
    "* Analyzing Data, where the dataset is analyzed and Autopilot comes up with a list of ML pipelines that should be tried out on the dataset. The dataset is also split into train and validation sets.\n",
    "* Feature Engineering, where Autopilot performs feature transformation on individual features of the dataset as well as at an aggregate level.\n",
    "* Model Tuning, where the top performing pipeline is selected along with the optimal hyperparameters for the training algorithm (the last stage of the pipeline). \n",
    "\n",
    "We can use the `describe_auto_ml_job` method to check the status of our SageMaker Autopilot job."
   ]
  },
  {
   "cell_type": "code",
   "execution_count": null,
   "metadata": {
    "scrolled": true
   },
   "outputs": [
    {
     "name": "stdout",
     "output_type": "stream",
     "text": [
      "JobStatus - Secondary Status\n",
      "------------------------------\n",
      "InProgress - AnalyzingData\n",
      "InProgress - AnalyzingData\n",
      "InProgress - AnalyzingData\n",
      "InProgress - AnalyzingData\n",
      "InProgress - AnalyzingData\n",
      "InProgress - AnalyzingData\n",
      "InProgress - AnalyzingData\n",
      "InProgress - AnalyzingData\n",
      "InProgress - AnalyzingData\n",
      "InProgress - AnalyzingData\n",
      "InProgress - AnalyzingData\n",
      "InProgress - AnalyzingData\n",
      "InProgress - AnalyzingData\n",
      "InProgress - AnalyzingData\n",
      "InProgress - AnalyzingData\n",
      "InProgress - AnalyzingData\n",
      "InProgress - AnalyzingData\n",
      "InProgress - AnalyzingData\n",
      "InProgress - AnalyzingData\n",
      "InProgress - AnalyzingData\n",
      "InProgress - FeatureEngineering\n",
      "InProgress - FeatureEngineering\n",
      "InProgress - FeatureEngineering\n",
      "InProgress - FeatureEngineering\n",
      "InProgress - FeatureEngineering\n",
      "InProgress - FeatureEngineering\n",
      "InProgress - FeatureEngineering\n",
      "InProgress - FeatureEngineering\n",
      "InProgress - FeatureEngineering\n",
      "InProgress - FeatureEngineering\n",
      "InProgress - FeatureEngineering\n",
      "InProgress - FeatureEngineering\n",
      "InProgress - FeatureEngineering\n",
      "InProgress - FeatureEngineering\n",
      "InProgress - FeatureEngineering\n",
      "InProgress - FeatureEngineering\n",
      "InProgress - FeatureEngineering\n",
      "InProgress - FeatureEngineering\n",
      "InProgress - FeatureEngineering\n"
     ]
    }
   ],
   "source": [
    "print(\"JobStatus - Secondary Status\")\n",
    "print(\"------------------------------\")\n",
    "\n",
    "\n",
    "describe_response = automl.describe_auto_ml_job()\n",
    "print(describe_response[\"AutoMLJobStatus\"] + \" - \" + describe_response[\"AutoMLJobSecondaryStatus\"])\n",
    "job_run_status = describe_response[\"AutoMLJobStatus\"]\n",
    "\n",
    "while job_run_status not in (\"Failed\", \"Completed\", \"Stopped\"):\n",
    "    describe_response = automl.describe_auto_ml_job()\n",
    "    job_run_status = describe_response[\"AutoMLJobStatus\"]\n",
    "\n",
    "    print(\n",
    "        describe_response[\"AutoMLJobStatus\"] + \" - \" + describe_response[\"AutoMLJobSecondaryStatus\"]\n",
    "    )\n",
    "    sleep(30)"
   ]
  },
  {
   "cell_type": "markdown",
   "metadata": {
    "toc-hr-collapsed": true
   },
   "source": [
    "---\n",
    "## Describing the SageMaker Autopilot Job Results <a name=\"Results\"></a>\n",
    "\n",
    "We can use the `describe_auto_ml_job` method to look up the best candidate generated by the SageMaker Autopilot job. This notebook demonstrate end-to-end Autopilot so that we have a already initialized `automl` object. \n",
    "\n",
    "**Note: Using Another Autopilot Job**\n",
    "\n",
    "If you want to retrieve a previous Autopilot job or an Autopilot job launched outside of this notebook, such as from the SageMaker Studio UI, from the CLI, etc, you can use the following lines to prior to the next cell. If you are using a different dataset, you must also override the following variables defined in the [Data](#Data) section in order to run the batch jobs and perform the analysis: `test_data`, `test_data_no_target`, `test_file`, `target_attribute_name`, `target_attribute_values`, and `target_attribute_true_value`.\n",
    "\n",
    "```python\n",
    "from sagemaker import AutoML\n",
    "automl = AutoML.attach(auto_ml_job_name='<autopilot-job-name>')\n",
    "\n",
    "test_data = ... # test_data to be used (with target column)\n",
    "test_data_no_target = ... # test_data to be used (without target column)\n",
    "test_file = ... # path of data to upload to S3 and perform batch inference (csv file of test_data_no_target)\n",
    "target_attribute_name = ... # name of target column (values to predict)\n",
    "target_attribute_values = ... # list of unique values in target column (sorted)\n",
    "target_attribute_true_value = ... # second value in target column (binary classification \"True\" class)\n",
    "\n",
    "```"
   ]
  },
  {
   "cell_type": "code",
   "execution_count": 12,
   "metadata": {},
   "outputs": [
    {
     "name": "stdout",
     "output_type": "stream",
     "text": [
      "{'CandidateName': 'automl-churn-sdk-03-20-05-01cpZw-009-919c9ea9',\n",
      " 'CandidateProperties': {'CandidateArtifactLocations': {'Explainability': 's3://sagemaker-us-east-1-503254810580/automl-churn-sdk-03-20-05-01/documentation/explainability/output'}},\n",
      " 'CandidateStatus': 'Completed',\n",
      " 'CandidateSteps': [{'CandidateStepArn': 'arn:aws:sagemaker:us-east-1:503254810580:processing-job/automl-churn-sdk-03-20-05-01-db-1-05f30264d04f4669858b1c92e8339',\n",
      "                     'CandidateStepName': 'automl-churn-sdk-03-20-05-01-db-1-05f30264d04f4669858b1c92e8339',\n",
      "                     'CandidateStepType': 'AWS::SageMaker::ProcessingJob'},\n",
      "                    {'CandidateStepArn': 'arn:aws:sagemaker:us-east-1:503254810580:training-job/automl-churn-sdk-03-20-05-01-dpp9-1-7eef44401bda49c29da87c79f3b',\n",
      "                     'CandidateStepName': 'automl-churn-sdk-03-20-05-01-dpp9-1-7eef44401bda49c29da87c79f3b',\n",
      "                     'CandidateStepType': 'AWS::SageMaker::TrainingJob'},\n",
      "                    {'CandidateStepArn': 'arn:aws:sagemaker:us-east-1:503254810580:transform-job/automl-churn-sdk-03-20-05-01-dpp9-csv-1-9d4262a8383a43b1853cdcb',\n",
      "                     'CandidateStepName': 'automl-churn-sdk-03-20-05-01-dpp9-csv-1-9d4262a8383a43b1853cdcb',\n",
      "                     'CandidateStepType': 'AWS::SageMaker::TransformJob'},\n",
      "                    {'CandidateStepArn': 'arn:aws:sagemaker:us-east-1:503254810580:training-job/automl-churn-sdk-03-20-05-01cpzw-009-919c9ea9',\n",
      "                     'CandidateStepName': 'automl-churn-sdk-03-20-05-01cpZw-009-919c9ea9',\n",
      "                     'CandidateStepType': 'AWS::SageMaker::TrainingJob'}],\n",
      " 'CreationTime': datetime.datetime(2021, 9, 3, 20, 27, 52, tzinfo=tzlocal()),\n",
      " 'EndTime': datetime.datetime(2021, 9, 3, 20, 30, 6, tzinfo=tzlocal()),\n",
      " 'FinalAutoMLJobObjectiveMetric': {'MetricName': 'validation:binary_f_beta',\n",
      "                                   'Value': 0.9469895362854004},\n",
      " 'InferenceContainers': [{'Environment': {'AUTOML_SPARSE_ENCODE_RECORDIO_PROTOBUF': '1',\n",
      "                                          'AUTOML_TRANSFORM_MODE': 'feature-transform',\n",
      "                                          'SAGEMAKER_DEFAULT_INVOCATIONS_ACCEPT': 'application/x-recordio-protobuf',\n",
      "                                          'SAGEMAKER_PROGRAM': 'sagemaker_serve',\n",
      "                                          'SAGEMAKER_SUBMIT_DIRECTORY': '/opt/ml/model/code'},\n",
      "                          'Image': '683313688378.dkr.ecr.us-east-1.amazonaws.com/sagemaker-sklearn-automl:2.2.1-1-cpu-py3',\n",
      "                          'ModelDataUrl': 's3://sagemaker-us-east-1-503254810580/automl-churn-sdk-03-20-05-01/data-processor-models/automl-churn-sdk-03-20-05-01-dpp9-1-7eef44401bda49c29da87c79f3b/output/model.tar.gz'},\n",
      "                         {'Environment': {'MAX_CONTENT_LENGTH': '20971520',\n",
      "                                          'ML_APPLICATION': 'mlp',\n",
      "                                          'SAGEMAKER_DEFAULT_INVOCATIONS_ACCEPT': 'text/csv',\n",
      "                                          'SAGEMAKER_INFERENCE_OUTPUT': 'predicted_label',\n",
      "                                          'SAGEMAKER_INFERENCE_SUPPORTED': 'predicted_label,probability,probabilities'},\n",
      "                          'Image': '382416733822.dkr.ecr.us-east-1.amazonaws.com/mxnet-algorithms:inference-cpu',\n",
      "                          'ModelDataUrl': 's3://sagemaker-us-east-1-503254810580/automl-churn-sdk-03-20-05-01/tuning/automl-chu-dpp9-mlp/automl-churn-sdk-03-20-05-01cpZw-009-919c9ea9/output/model.tar.gz'},\n",
      "                         {'Environment': {'AUTOML_TRANSFORM_MODE': 'inverse-label-transform',\n",
      "                                          'SAGEMAKER_DEFAULT_INVOCATIONS_ACCEPT': 'text/csv',\n",
      "                                          'SAGEMAKER_INFERENCE_INPUT': 'predicted_label',\n",
      "                                          'SAGEMAKER_INFERENCE_OUTPUT': 'predicted_label',\n",
      "                                          'SAGEMAKER_INFERENCE_SUPPORTED': 'predicted_label,probability,labels,probabilities',\n",
      "                                          'SAGEMAKER_PROGRAM': 'sagemaker_serve',\n",
      "                                          'SAGEMAKER_SUBMIT_DIRECTORY': '/opt/ml/model/code'},\n",
      "                          'Image': '683313688378.dkr.ecr.us-east-1.amazonaws.com/sagemaker-sklearn-automl:2.2.1-1-cpu-py3',\n",
      "                          'ModelDataUrl': 's3://sagemaker-us-east-1-503254810580/automl-churn-sdk-03-20-05-01/data-processor-models/automl-churn-sdk-03-20-05-01-dpp9-1-7eef44401bda49c29da87c79f3b/output/model.tar.gz'}],\n",
      " 'LastModifiedTime': datetime.datetime(2021, 9, 3, 20, 37, 12, 567000, tzinfo=tzlocal()),\n",
      " 'ObjectiveStatus': 'Succeeded'}\n",
      "\n",
      "\n",
      "CandidateName: automl-churn-sdk-03-20-05-01cpZw-009-919c9ea9\n",
      "FinalAutoMLJobObjectiveMetricName: validation:binary_f_beta\n",
      "FinalAutoMLJobObjectiveMetricValue: 0.9469895362854004\n"
     ]
    }
   ],
   "source": [
    "best_candidate = automl.describe_auto_ml_job()[\"BestCandidate\"]\n",
    "best_candidate_name = best_candidate[\"CandidateName\"]\n",
    "pprint(best_candidate)\n",
    "print(\"\\n\")\n",
    "print(\"CandidateName: \" + best_candidate_name)\n",
    "print(\n",
    "    \"FinalAutoMLJobObjectiveMetricName: \"\n",
    "    + best_candidate[\"FinalAutoMLJobObjectiveMetric\"][\"MetricName\"]\n",
    ")\n",
    "print(\n",
    "    \"FinalAutoMLJobObjectiveMetricValue: \"\n",
    "    + str(best_candidate[\"FinalAutoMLJobObjectiveMetric\"][\"Value\"])\n",
    ")"
   ]
  },
  {
   "cell_type": "markdown",
   "metadata": {},
   "source": [
    "Due to some randomness in the algorithms involved, different runs will provide slightly different results, but accuracy will be around or above $93\\%$, which is a good result."
   ]
  },
  {
   "cell_type": "markdown",
   "metadata": {},
   "source": [
    "### Check Top Candidates\n",
    "\n",
    "In addition to the `best_candidate`, we can also explore the other top candidates generated by SageMaker Autopilot. \n",
    "\n",
    "We use the `list_candidates` method to see our other top candidates."
   ]
  },
  {
   "cell_type": "code",
   "execution_count": 13,
   "metadata": {},
   "outputs": [
    {
     "data": {
      "text/plain": [
       "5"
      ]
     },
     "execution_count": 13,
     "metadata": {},
     "output_type": "execute_result"
    }
   ],
   "source": [
    "TOP_N_CANDIDATES  # number of top candidates to check, defined at the beginning of the notebook"
   ]
  },
  {
   "cell_type": "code",
   "execution_count": 14,
   "metadata": {},
   "outputs": [
    {
     "name": "stdout",
     "output_type": "stream",
     "text": [
      "Candidate name:  automl-churn-sdk-03-20-05-01cpZw-009-919c9ea9\n",
      "Objective metric name:  validation:binary_f_beta\n",
      "Objective metric value:  0.9469895362854004\n",
      "\n",
      "\n",
      "Candidate name:  automl-churn-sdk-03-20-05-01cpZw-005-ba7401ea\n",
      "Objective metric name:  validation:f1_binary\n",
      "Objective metric value:  0.9381499886512756\n",
      "\n",
      "\n",
      "Candidate name:  automl-churn-sdk-03-20-05-01cpZw-004-64ef8543\n",
      "Objective metric name:  validation:f1_binary\n",
      "Objective metric value:  0.9374899864196777\n",
      "\n",
      "\n",
      "Candidate name:  automl-churn-sdk-03-20-05-01cpZw-010-c7dcc7ed\n",
      "Objective metric name:  validation:binary_f_beta\n",
      "Objective metric value:  0.9374728202819824\n",
      "\n",
      "\n",
      "Candidate name:  automl-churn-sdk-03-20-05-01cpZw-007-d7163c67\n",
      "Objective metric name:  validation:f1_binary\n",
      "Objective metric value:  0.9358100295066833\n",
      "\n",
      "\n"
     ]
    }
   ],
   "source": [
    "candidates = automl.list_candidates(\n",
    "    sort_by=\"FinalObjectiveMetricValue\", sort_order=\"Descending\", max_results=TOP_N_CANDIDATES\n",
    ")\n",
    "\n",
    "for candidate in candidates:\n",
    "    print(\"Candidate name: \", candidate[\"CandidateName\"])\n",
    "    print(\"Objective metric name: \", candidate[\"FinalAutoMLJobObjectiveMetric\"][\"MetricName\"])\n",
    "    print(\"Objective metric value: \", candidate[\"FinalAutoMLJobObjectiveMetric\"][\"Value\"])\n",
    "    print(\"\\n\")"
   ]
  },
  {
   "cell_type": "markdown",
   "metadata": {},
   "source": [
    "---\n",
    "## Evaluate Top Candidates <a name=\"Evaluation\"></a>\n",
    "\n",
    "Once our SageMaker Autopilot job has finished, we can start running inference on the top candidates. In SageMaker, you can perform inference in two ways: online endpoint inference or batch transform inference. Lets focus on batch transform inference.\n",
    "\n",
    "We'll perform batch transform on our top candidates and analyze some custom metrics from our top candidates' prediction results."
   ]
  },
  {
   "cell_type": "markdown",
   "metadata": {},
   "source": [
    "### Upload Data for Transform Jobs\n",
    "\n",
    "We'll use the `test_data` which we defined when we split out data in train and test splits. We need to upload this data to S3. As a refresher, here's `test_data`"
   ]
  },
  {
   "cell_type": "code",
   "execution_count": 15,
   "metadata": {},
   "outputs": [
    {
     "data": {
      "text/html": [
       "<div>\n",
       "<style scoped>\n",
       "    .dataframe tbody tr th:only-of-type {\n",
       "        vertical-align: middle;\n",
       "    }\n",
       "\n",
       "    .dataframe tbody tr th {\n",
       "        vertical-align: top;\n",
       "    }\n",
       "\n",
       "    .dataframe thead th {\n",
       "        text-align: right;\n",
       "    }\n",
       "</style>\n",
       "<table border=\"1\" class=\"dataframe\">\n",
       "  <thead>\n",
       "    <tr style=\"text-align: right;\">\n",
       "      <th></th>\n",
       "      <th>State</th>\n",
       "      <th>Account Length</th>\n",
       "      <th>Area Code</th>\n",
       "      <th>Phone</th>\n",
       "      <th>Int'l Plan</th>\n",
       "      <th>VMail Plan</th>\n",
       "      <th>VMail Message</th>\n",
       "      <th>Day Mins</th>\n",
       "      <th>Day Calls</th>\n",
       "      <th>Day Charge</th>\n",
       "      <th>Eve Mins</th>\n",
       "      <th>Eve Calls</th>\n",
       "      <th>Eve Charge</th>\n",
       "      <th>Night Mins</th>\n",
       "      <th>Night Calls</th>\n",
       "      <th>Night Charge</th>\n",
       "      <th>Intl Mins</th>\n",
       "      <th>Intl Calls</th>\n",
       "      <th>Intl Charge</th>\n",
       "      <th>CustServ Calls</th>\n",
       "      <th>Churn?</th>\n",
       "    </tr>\n",
       "  </thead>\n",
       "  <tbody>\n",
       "    <tr>\n",
       "      <th>2</th>\n",
       "      <td>MO</td>\n",
       "      <td>131</td>\n",
       "      <td>777</td>\n",
       "      <td>896-6253</td>\n",
       "      <td>no</td>\n",
       "      <td>yes</td>\n",
       "      <td>300</td>\n",
       "      <td>4.708490</td>\n",
       "      <td>3</td>\n",
       "      <td>4.768160</td>\n",
       "      <td>4.537466</td>\n",
       "      <td>3</td>\n",
       "      <td>4.566715</td>\n",
       "      <td>5.363235</td>\n",
       "      <td>100</td>\n",
       "      <td>5.142451</td>\n",
       "      <td>7.139023</td>\n",
       "      <td>2</td>\n",
       "      <td>6.254157</td>\n",
       "      <td>4</td>\n",
       "      <td>False.</td>\n",
       "    </tr>\n",
       "    <tr>\n",
       "      <th>17</th>\n",
       "      <td>NY</td>\n",
       "      <td>142</td>\n",
       "      <td>788</td>\n",
       "      <td>248-9207</td>\n",
       "      <td>yes</td>\n",
       "      <td>no</td>\n",
       "      <td>0</td>\n",
       "      <td>0.631607</td>\n",
       "      <td>4</td>\n",
       "      <td>0.817364</td>\n",
       "      <td>4.399598</td>\n",
       "      <td>0</td>\n",
       "      <td>2.024482</td>\n",
       "      <td>3.156505</td>\n",
       "      <td>200</td>\n",
       "      <td>6.124743</td>\n",
       "      <td>5.644293</td>\n",
       "      <td>3</td>\n",
       "      <td>1.532017</td>\n",
       "      <td>10</td>\n",
       "      <td>True.</td>\n",
       "    </tr>\n",
       "    <tr>\n",
       "      <th>18</th>\n",
       "      <td>NJ</td>\n",
       "      <td>111</td>\n",
       "      <td>787</td>\n",
       "      <td>843-5355</td>\n",
       "      <td>yes</td>\n",
       "      <td>yes</td>\n",
       "      <td>700</td>\n",
       "      <td>11.615619</td>\n",
       "      <td>2</td>\n",
       "      <td>7.898472</td>\n",
       "      <td>9.791104</td>\n",
       "      <td>0</td>\n",
       "      <td>7.375764</td>\n",
       "      <td>5.144235</td>\n",
       "      <td>250</td>\n",
       "      <td>6.855468</td>\n",
       "      <td>4.413320</td>\n",
       "      <td>4</td>\n",
       "      <td>8.499380</td>\n",
       "      <td>6</td>\n",
       "      <td>False.</td>\n",
       "    </tr>\n",
       "    <tr>\n",
       "      <th>37</th>\n",
       "      <td>WV</td>\n",
       "      <td>4</td>\n",
       "      <td>878</td>\n",
       "      <td>510-9652</td>\n",
       "      <td>no</td>\n",
       "      <td>yes</td>\n",
       "      <td>500</td>\n",
       "      <td>4.677963</td>\n",
       "      <td>6</td>\n",
       "      <td>6.259296</td>\n",
       "      <td>5.786310</td>\n",
       "      <td>7</td>\n",
       "      <td>3.780335</td>\n",
       "      <td>3.309557</td>\n",
       "      <td>450</td>\n",
       "      <td>6.299289</td>\n",
       "      <td>3.450221</td>\n",
       "      <td>7</td>\n",
       "      <td>0.853121</td>\n",
       "      <td>7</td>\n",
       "      <td>False.</td>\n",
       "    </tr>\n",
       "    <tr>\n",
       "      <th>39</th>\n",
       "      <td>OK</td>\n",
       "      <td>14</td>\n",
       "      <td>797</td>\n",
       "      <td>437-5663</td>\n",
       "      <td>yes</td>\n",
       "      <td>yes</td>\n",
       "      <td>600</td>\n",
       "      <td>4.372232</td>\n",
       "      <td>3</td>\n",
       "      <td>4.763078</td>\n",
       "      <td>5.350116</td>\n",
       "      <td>4</td>\n",
       "      <td>4.920831</td>\n",
       "      <td>6.597559</td>\n",
       "      <td>350</td>\n",
       "      <td>3.057663</td>\n",
       "      <td>5.956779</td>\n",
       "      <td>6</td>\n",
       "      <td>5.478657</td>\n",
       "      <td>5</td>\n",
       "      <td>False.</td>\n",
       "    </tr>\n",
       "  </tbody>\n",
       "</table>\n",
       "</div>"
      ],
      "text/plain": [
       "   State  Account Length  Area Code     Phone Int'l Plan VMail Plan  \\\n",
       "2     MO             131        777  896-6253         no        yes   \n",
       "17    NY             142        788  248-9207        yes         no   \n",
       "18    NJ             111        787  843-5355        yes        yes   \n",
       "37    WV               4        878  510-9652         no        yes   \n",
       "39    OK              14        797  437-5663        yes        yes   \n",
       "\n",
       "    VMail Message   Day Mins  Day Calls  Day Charge  Eve Mins  Eve Calls  \\\n",
       "2             300   4.708490          3    4.768160  4.537466          3   \n",
       "17              0   0.631607          4    0.817364  4.399598          0   \n",
       "18            700  11.615619          2    7.898472  9.791104          0   \n",
       "37            500   4.677963          6    6.259296  5.786310          7   \n",
       "39            600   4.372232          3    4.763078  5.350116          4   \n",
       "\n",
       "    Eve Charge  Night Mins  Night Calls  Night Charge  Intl Mins  Intl Calls  \\\n",
       "2     4.566715    5.363235          100      5.142451   7.139023           2   \n",
       "17    2.024482    3.156505          200      6.124743   5.644293           3   \n",
       "18    7.375764    5.144235          250      6.855468   4.413320           4   \n",
       "37    3.780335    3.309557          450      6.299289   3.450221           7   \n",
       "39    4.920831    6.597559          350      3.057663   5.956779           6   \n",
       "\n",
       "    Intl Charge  CustServ Calls  Churn?  \n",
       "2      6.254157               4  False.  \n",
       "17     1.532017              10   True.  \n",
       "18     8.499380               6  False.  \n",
       "37     0.853121               7  False.  \n",
       "39     5.478657               5  False.  "
      ]
     },
     "execution_count": 15,
     "metadata": {},
     "output_type": "execute_result"
    }
   ],
   "source": [
    "test_data.head()"
   ]
  },
  {
   "cell_type": "code",
   "execution_count": 16,
   "metadata": {},
   "outputs": [
    {
     "name": "stdout",
     "output_type": "stream",
     "text": [
      "Uploaded transform data to s3://sagemaker-us-east-1-503254810580/sagemaker/DEMO-autopilot-churn-SDK/test_data.csv\n"
     ]
    }
   ],
   "source": [
    "input_data_transform = session.upload_data(path=test_file, bucket=bucket, key_prefix=prefix)\n",
    "print(\"Uploaded transform data to {}\".format(input_data_transform))"
   ]
  },
  {
   "cell_type": "markdown",
   "metadata": {},
   "source": [
    "### Customize the Inference Response\n",
    "\n",
    "For classification problem types, the inference containers generated by SageMaker Autopilot allow you to select the response content for predictions. Valid inference response content are defined below for binary classification and multiclass classification problem types.\n",
    "\n",
    "- `'predicted_label'` - predicted class\n",
    "- `'probability'` - In binary classification, the probability that the result is predicted as the second or `True` class in the target column. In multiclass classification, the probability of the winning class.\n",
    "- `'labels'` - list of all possible classes\n",
    "- `'probabilities'` - list of all probabilities for all classes (order corresponds with `'labels'`)\n",
    "\n",
    "By default the inference contianers are configured to generate the `'predicted_label'`.\n",
    "\n",
    "In this example we use `‘predicted_label’` and `‘probability’` to demonstrate how to evaluate the models with custom metrics. For the Churn dataset, the second or `True` class is the string`'True.'`\n"
   ]
  },
  {
   "cell_type": "code",
   "execution_count": 17,
   "metadata": {},
   "outputs": [],
   "source": [
    "inference_response_keys = [\"predicted_label\", \"probability\"]"
   ]
  },
  {
   "cell_type": "markdown",
   "metadata": {},
   "source": [
    "### Create the Models and Tranform Estimators\n",
    "\n",
    "Let's create our Models and Batch Transform Estimators using the `create_model` method. We can specify our inference response using the `inference_response_keys` keyword argument."
   ]
  },
  {
   "cell_type": "code",
   "execution_count": 18,
   "metadata": {},
   "outputs": [
    {
     "name": "stdout",
     "output_type": "stream",
     "text": [
      "Setting up 5 Batch Transform Jobs in `transformers`\n"
     ]
    }
   ],
   "source": [
    "s3_transform_output_path = \"s3://{}/{}/inference-results/\".format(bucket, prefix)\n",
    "\n",
    "transformers = []\n",
    "\n",
    "for candidate in candidates:\n",
    "    model = automl.create_model(\n",
    "        name=candidate[\"CandidateName\"],\n",
    "        candidate=candidate,\n",
    "        inference_response_keys=inference_response_keys,\n",
    "    )\n",
    "\n",
    "    output_path = s3_transform_output_path + candidate[\"CandidateName\"] + \"/\"\n",
    "\n",
    "    transformers.append(\n",
    "        model.transformer(\n",
    "            instance_count=1,\n",
    "            instance_type=\"ml.m5.xlarge\",\n",
    "            assemble_with=\"Line\",\n",
    "            output_path=output_path,\n",
    "        )\n",
    "    )\n",
    "\n",
    "print(\"Setting up {} Batch Transform Jobs in `transformers`\".format(len(transformers)))"
   ]
  },
  {
   "cell_type": "markdown",
   "metadata": {},
   "source": [
    "### Start the Transform Jobs\n",
    "\n",
    "Let's start all the transform jobs."
   ]
  },
  {
   "cell_type": "code",
   "execution_count": 19,
   "metadata": {},
   "outputs": [
    {
     "name": "stdout",
     "output_type": "stream",
     "text": [
      "Starting transform job automl-churn-sdk-03-20-05-01cpZw-009-91-2021-09-03-21-52-33-809\n",
      "Starting transform job automl-churn-sdk-03-20-05-01cpZw-005-ba-2021-09-03-21-52-34-271\n",
      "Starting transform job automl-churn-sdk-03-20-05-01cpZw-004-64-2021-09-03-21-52-35-032\n",
      "Starting transform job automl-churn-sdk-03-20-05-01cpZw-010-c7-2021-09-03-21-52-41-625\n",
      "Starting transform job automl-churn-sdk-03-20-05-01cpZw-007-d7-2021-09-03-21-52-43-071\n"
     ]
    }
   ],
   "source": [
    "for transformer in transformers:\n",
    "    transformer.transform(\n",
    "        data=input_data_transform, split_type=\"Line\", content_type=\"text/csv\", wait=False\n",
    "    )\n",
    "    print(\"Starting transform job {}\".format(transformer._current_job_name))"
   ]
  },
  {
   "cell_type": "markdown",
   "metadata": {},
   "source": [
    "Now we wait for our transform jobs to finish."
   ]
  },
  {
   "cell_type": "code",
   "execution_count": 20,
   "metadata": {},
   "outputs": [
    {
     "name": "stdout",
     "output_type": "stream",
     "text": [
      "5 out of 5 transform jobs are running.\n",
      "5 out of 5 transform jobs are running.\n",
      "5 out of 5 transform jobs are running.\n",
      "5 out of 5 transform jobs are running.\n",
      "5 out of 5 transform jobs are running.\n",
      "5 out of 5 transform jobs are running.\n",
      "5 out of 5 transform jobs are running.\n",
      "5 out of 5 transform jobs are running.\n",
      "5 out of 5 transform jobs are running.\n",
      "5 out of 5 transform jobs are running.\n",
      "5 out of 5 transform jobs are running.\n",
      "1 out of 5 transform jobs are running.\n",
      "0 out of 5 transform jobs are running.\n",
      "Transform job 'automl-churn-sdk-03-20-05-01cpZw-009-91-2021-09-03-21-52-33-809' finished with status Completed\n",
      "Transform job 'automl-churn-sdk-03-20-05-01cpZw-005-ba-2021-09-03-21-52-34-271' finished with status Completed\n",
      "Transform job 'automl-churn-sdk-03-20-05-01cpZw-004-64-2021-09-03-21-52-35-032' finished with status Completed\n",
      "Transform job 'automl-churn-sdk-03-20-05-01cpZw-010-c7-2021-09-03-21-52-41-625' finished with status Completed\n",
      "Transform job 'automl-churn-sdk-03-20-05-01cpZw-007-d7-2021-09-03-21-52-43-071' finished with status Completed\n"
     ]
    }
   ],
   "source": [
    "pending_complete = True\n",
    "\n",
    "while pending_complete:\n",
    "    pending_complete = False\n",
    "    num_transform_jobs = len(transformers)\n",
    "    for transformer in transformers:\n",
    "        desc = sm.describe_transform_job(TransformJobName=transformer._current_job_name)\n",
    "        if desc[\"TransformJobStatus\"] not in [\"Failed\", \"Completed\"]:\n",
    "            pending_complete = True\n",
    "        else:\n",
    "            num_transform_jobs -= 1\n",
    "    print(\"{} out of {} transform jobs are running.\".format(num_transform_jobs, len(transformers)))\n",
    "    sleep(30)\n",
    "\n",
    "for transformer in transformers:\n",
    "    desc = sm.describe_transform_job(TransformJobName=transformer._current_job_name)\n",
    "    print(\n",
    "        \"Transform job '{}' finished with status {}\".format(\n",
    "            transformer._current_job_name, desc[\"TransformJobStatus\"]\n",
    "        )\n",
    "    )"
   ]
  },
  {
   "cell_type": "markdown",
   "metadata": {},
   "source": [
    "### Evaluate the Inference Results\n",
    "\n",
    "Now we analyze our inference results. The batch transform results are stored in S3. So we define a helper method to get the results from S3."
   ]
  },
  {
   "cell_type": "code",
   "execution_count": 21,
   "metadata": {},
   "outputs": [],
   "source": [
    "import json\n",
    "import io\n",
    "from urllib.parse import urlparse\n",
    "\n",
    "\n",
    "def get_csv_from_s3(s3uri, file_name):\n",
    "    parsed_url = urlparse(s3uri)\n",
    "    bucket_name = parsed_url.netloc\n",
    "    prefix = parsed_url.path[1:].strip(\"/\")\n",
    "    s3 = boto3.resource(\"s3\")\n",
    "    obj = s3.Object(bucket_name, \"{}/{}\".format(prefix, file_name))\n",
    "    return obj.get()[\"Body\"].read().decode(\"utf-8\")"
   ]
  },
  {
   "cell_type": "code",
   "execution_count": 22,
   "metadata": {},
   "outputs": [
    {
     "name": "stdout",
     "output_type": "stream",
     "text": [
      "s3://sagemaker-us-east-1-503254810580/sagemaker/DEMO-autopilot-churn-SDK/inference-results/automl-churn-sdk-03-20-05-01cpZw-009-919c9ea9/\n",
      "s3://sagemaker-us-east-1-503254810580/sagemaker/DEMO-autopilot-churn-SDK/inference-results/automl-churn-sdk-03-20-05-01cpZw-005-ba7401ea/\n",
      "s3://sagemaker-us-east-1-503254810580/sagemaker/DEMO-autopilot-churn-SDK/inference-results/automl-churn-sdk-03-20-05-01cpZw-004-64ef8543/\n",
      "s3://sagemaker-us-east-1-503254810580/sagemaker/DEMO-autopilot-churn-SDK/inference-results/automl-churn-sdk-03-20-05-01cpZw-010-c7dcc7ed/\n",
      "s3://sagemaker-us-east-1-503254810580/sagemaker/DEMO-autopilot-churn-SDK/inference-results/automl-churn-sdk-03-20-05-01cpZw-007-d7163c67/\n"
     ]
    }
   ],
   "source": [
    "predictions = []\n",
    "\n",
    "for transformer in transformers:\n",
    "    print(transformer.output_path)\n",
    "    pred_csv = get_csv_from_s3(transformer.output_path, \"{}.out\".format(test_file))\n",
    "    predictions.append(pd.read_csv(io.StringIO(pred_csv), header=None))"
   ]
  },
  {
   "cell_type": "markdown",
   "metadata": {},
   "source": [
    "We will use the `sklearn.metrics` module to analyze our prediction results."
   ]
  },
  {
   "cell_type": "code",
   "execution_count": 23,
   "metadata": {
    "scrolled": true
   },
   "outputs": [
    {
     "name": "stdout",
     "output_type": "stream",
     "text": [
      "automl-churn-sdk-03-20-05-01cpZw-009-919c9ea9's ROC AUC = 0.99, Average Precision = 0.99\n",
      "              precision    recall  f1-score   support\n",
      "\n",
      "      False.       0.97      0.95      0.96       498\n",
      "       True.       0.95      0.97      0.96       502\n",
      "\n",
      "    accuracy                           0.96      1000\n",
      "   macro avg       0.96      0.96      0.96      1000\n",
      "weighted avg       0.96      0.96      0.96      1000\n",
      "\n",
      "\n",
      "automl-churn-sdk-03-20-05-01cpZw-005-ba7401ea's ROC AUC = 0.98, Average Precision = 0.97\n",
      "              precision    recall  f1-score   support\n",
      "\n",
      "      False.       0.95      0.91      0.93       498\n",
      "       True.       0.92      0.95      0.93       502\n",
      "\n",
      "    accuracy                           0.93      1000\n",
      "   macro avg       0.93      0.93      0.93      1000\n",
      "weighted avg       0.93      0.93      0.93      1000\n",
      "\n",
      "\n",
      "automl-churn-sdk-03-20-05-01cpZw-004-64ef8543's ROC AUC = 0.98, Average Precision = 0.97\n",
      "              precision    recall  f1-score   support\n",
      "\n",
      "      False.       0.95      0.92      0.93       498\n",
      "       True.       0.92      0.95      0.93       502\n",
      "\n",
      "    accuracy                           0.93      1000\n",
      "   macro avg       0.93      0.93      0.93      1000\n",
      "weighted avg       0.93      0.93      0.93      1000\n",
      "\n",
      "\n",
      "automl-churn-sdk-03-20-05-01cpZw-010-c7dcc7ed's ROC AUC = 0.98, Average Precision = 0.97\n",
      "              precision    recall  f1-score   support\n",
      "\n",
      "      False.       0.95      0.92      0.93       498\n",
      "       True.       0.92      0.95      0.94       502\n",
      "\n",
      "    accuracy                           0.94      1000\n",
      "   macro avg       0.94      0.94      0.94      1000\n",
      "weighted avg       0.94      0.94      0.94      1000\n",
      "\n",
      "\n",
      "automl-churn-sdk-03-20-05-01cpZw-007-d7163c67's ROC AUC = 0.98, Average Precision = 0.98\n",
      "              precision    recall  f1-score   support\n",
      "\n",
      "      False.       0.96      0.92      0.94       498\n",
      "       True.       0.93      0.96      0.94       502\n",
      "\n",
      "    accuracy                           0.94      1000\n",
      "   macro avg       0.94      0.94      0.94      1000\n",
      "weighted avg       0.94      0.94      0.94      1000\n",
      "\n",
      "\n"
     ]
    }
   ],
   "source": [
    "from sklearn.metrics import (\n",
    "    roc_auc_score,\n",
    "    roc_curve,\n",
    "    precision_recall_curve,\n",
    "    classification_report,\n",
    "    average_precision_score,\n",
    ")\n",
    "import matplotlib.pyplot as plt\n",
    "\n",
    "labels = test_data[target_attribute_name].apply(\n",
    "    lambda row: True if row == target_attribute_true_value else False\n",
    ")\n",
    "\n",
    "# calculate auc score\n",
    "for prediction, candidate in zip(predictions, candidates):\n",
    "    roc_auc = roc_auc_score(labels, prediction.loc[:, 1])\n",
    "    ap = average_precision_score(labels, prediction.loc[:, 1])\n",
    "    print(\n",
    "        \"%s's ROC AUC = %.2f, Average Precision = %.2f\" % (candidate[\"CandidateName\"], roc_auc, ap)\n",
    "    )\n",
    "    print(classification_report(test_data[target_attribute_name], prediction.loc[:, 0]))\n",
    "    print()"
   ]
  },
  {
   "cell_type": "markdown",
   "metadata": {},
   "source": [
    "Plot the ROC curve."
   ]
  },
  {
   "cell_type": "code",
   "execution_count": 24,
   "metadata": {},
   "outputs": [
    {
     "data": {
      "image/png": "[encoded data removed]",
      "text/plain": [
       "<Figure size 2560x1440 with 1 Axes>"
      ]
     },
     "metadata": {},
     "output_type": "display_data"
    }
   ],
   "source": [
    "fpr_tpr = []\n",
    "for prediction in predictions:\n",
    "    fpr, tpr, _ = roc_curve(labels, prediction.loc[:, 1])\n",
    "    fpr_tpr.append(fpr)\n",
    "    fpr_tpr.append(tpr)\n",
    "\n",
    "plt.figure(num=None, figsize=(16, 9), dpi=160, facecolor=\"w\", edgecolor=\"k\")\n",
    "plt.plot(*fpr_tpr)\n",
    "plt.legend([candidate[\"CandidateName\"] for candidate in candidates], loc=\"lower right\")\n",
    "plt.xlabel(\"False Positive Rate\")\n",
    "plt.ylabel(\"True Positive Rate\")\n",
    "plt.title(\"ROC Curve\")\n",
    "plt.show()"
   ]
  },
  {
   "cell_type": "markdown",
   "metadata": {},
   "source": [
    "Plot the precision-recall curve."
   ]
  },
  {
   "cell_type": "code",
   "execution_count": 25,
   "metadata": {},
   "outputs": [
    {
     "data": {
      "image/png": "[encoded data removed]",
      "text/plain": [
       "<Figure size 2560x1440 with 1 Axes>"
      ]
     },
     "metadata": {},
     "output_type": "display_data"
    }
   ],
   "source": [
    "precision_recall = []\n",
    "for prediction in predictions:\n",
    "    precision, recall, _ = precision_recall_curve(labels, prediction.loc[:, 1])\n",
    "    precision_recall.append(recall)\n",
    "    precision_recall.append(precision)\n",
    "\n",
    "plt.figure(num=None, figsize=(16, 9), dpi=160, facecolor=\"w\", edgecolor=\"k\")\n",
    "plt.plot(*precision_recall)\n",
    "plt.legend([candidate[\"CandidateName\"] for candidate in candidates], loc=\"lower left\")\n",
    "plt.xlabel(\"Recall\")\n",
    "plt.ylabel(\"Precision\")\n",
    "plt.title(\"Precision-Recall Curve\")\n",
    "plt.show()"
   ]
  },
  {
   "cell_type": "markdown",
   "metadata": {},
   "source": [
    "Given the target minimal precision, we will find the model that provides the best recall and the operation point for that model."
   ]
  },
  {
   "cell_type": "code",
   "execution_count": 26,
   "metadata": {},
   "outputs": [
    {
     "name": "stdout",
     "output_type": "stream",
     "text": [
      "Best Candidate Name: automl-churn-sdk-03-20-05-01cpZw-005-ba7401ea\n",
      "Best Candidate Threshold (Operation Point): 0.0533392243087291\n",
      "Best Candidate Recall: 1.0\n"
     ]
    }
   ],
   "source": [
    "target_min_precision = 0.75\n",
    "\n",
    "best_recall = 0\n",
    "best_candidate_idx = -1\n",
    "best_candidate_threshold = -1\n",
    "candidate_idx = 0\n",
    "for prediction in predictions:\n",
    "    precision, recall, thresholds = precision_recall_curve(labels, prediction.loc[:, 1])\n",
    "    threshold_idx = np.argmax(precision >= target_min_precision)\n",
    "    if recall[threshold_idx] > best_recall:\n",
    "        best_recall = recall[threshold_idx]\n",
    "        best_candidate_threshold = thresholds[threshold_idx]\n",
    "        best_candidate_idx = candidate_idx\n",
    "    candidate_idx += 1\n",
    "\n",
    "print(\"Best Candidate Name: {}\".format(candidates[best_candidate_idx][\"CandidateName\"]))\n",
    "print(\"Best Candidate Threshold (Operation Point): {}\".format(best_candidate_threshold))\n",
    "print(\"Best Candidate Recall: {}\".format(best_recall))"
   ]
  },
  {
   "cell_type": "markdown",
   "metadata": {},
   "source": [
    "Get predictions of the best model based on the selected operating point."
   ]
  },
  {
   "cell_type": "code",
   "execution_count": 27,
   "metadata": {},
   "outputs": [
    {
     "name": "stdout",
     "output_type": "stream",
     "text": [
      "Default Operating Point: recall=0.9482071713147411, precision=0.9171483622350675\n",
      "Updated Operating Point: recall=1.0, precision=0.7583081570996979\n"
     ]
    }
   ],
   "source": [
    "prediction_default = predictions[best_candidate_idx].loc[:, 0] == target_attribute_true_value\n",
    "prediction_updated = predictions[best_candidate_idx].loc[:, 1] >= best_candidate_threshold\n",
    "\n",
    "# compare the updated predictions to Autopilot's default\n",
    "from sklearn.metrics import precision_score, recall_score\n",
    "\n",
    "print(\n",
    "    \"Default Operating Point: recall={}, precision={}\".format(\n",
    "        recall_score(labels, prediction_default), precision_score(labels, prediction_default)\n",
    "    )\n",
    ")\n",
    "print(\n",
    "    \"Updated Operating Point: recall={}, precision={}\".format(\n",
    "        recall_score(labels, prediction_updated), precision_score(labels, prediction_updated)\n",
    "    )\n",
    ")"
   ]
  },
  {
   "cell_type": "markdown",
   "metadata": {},
   "source": [
    "### Deploy the Selected Candidate\n",
    "\n",
    "After performing the analysis above, we can deploy the candidate that provides the best recall. We will use the `deploy` method to create the online inference endpoint. We'll use the same `inference_response_keys` from out batch transform jobs, but you can customize this as you wish. If `inference_response_keys` is not specified, only the `'predicted_label'` will be returned.\n"
   ]
  },
  {
   "cell_type": "code",
   "execution_count": 28,
   "metadata": {},
   "outputs": [
    {
     "data": {
      "text/plain": [
       "['predicted_label', 'probability']"
      ]
     },
     "execution_count": 28,
     "metadata": {},
     "output_type": "execute_result"
    }
   ],
   "source": [
    "inference_response_keys"
   ]
  },
  {
   "cell_type": "code",
   "execution_count": 29,
   "metadata": {},
   "outputs": [
    {
     "name": "stdout",
     "output_type": "stream",
     "text": [
      "----------------!Created endpoint: sagemaker-sklearn-automl-2021-09-03-21-59-18-998\n"
     ]
    }
   ],
   "source": [
    "from sagemaker.predictor import Predictor\n",
    "from sagemaker.serializers import CSVSerializer\n",
    "from sagemaker.deserializers import CSVDeserializer\n",
    "\n",
    "predictor = automl.deploy(\n",
    "    initial_instance_count=1,\n",
    "    instance_type=\"ml.m5.2xlarge\",\n",
    "    candidate=candidates[best_candidate_idx],\n",
    "    inference_response_keys=inference_response_keys,\n",
    "    predictor_cls=Predictor,\n",
    "    serializer=CSVSerializer(),\n",
    "    deserializer=CSVDeserializer(),\n",
    ")\n",
    "\n",
    "print(\"Created endpoint: {}\".format(predictor.endpoint_name))"
   ]
  },
  {
   "cell_type": "markdown",
   "metadata": {},
   "source": [
    "Once we have created our endpoint, we can send real-time predictions to the endpoint. The inference output will contain the model's`predicted_label` and `probability`. We use the custom threshold calculated above to determine our own `custom_predicted_label` based on the probability score in the inference response. If a `probability` is less than the `best_candidate_threshold`, the `custom_predicted_label` is the `False.` class. If a `probability` is greater than of equal to the `best_candidate_threshold`, the `custom_predicted_label` is the `True.` class. "
   ]
  },
  {
   "cell_type": "code",
   "execution_count": 30,
   "metadata": {},
   "outputs": [
    {
     "data": {
      "text/plain": [
       "0.0533392243087291"
      ]
     },
     "execution_count": 30,
     "metadata": {},
     "output_type": "execute_result"
    }
   ],
   "source": [
    "best_candidate_threshold"
   ]
  },
  {
   "cell_type": "code",
   "execution_count": 31,
   "metadata": {},
   "outputs": [
    {
     "data": {
      "text/html": [
       "<div>\n",
       "<style scoped>\n",
       "    .dataframe tbody tr th:only-of-type {\n",
       "        vertical-align: middle;\n",
       "    }\n",
       "\n",
       "    .dataframe tbody tr th {\n",
       "        vertical-align: top;\n",
       "    }\n",
       "\n",
       "    .dataframe thead th {\n",
       "        text-align: right;\n",
       "    }\n",
       "</style>\n",
       "<table border=\"1\" class=\"dataframe\">\n",
       "  <thead>\n",
       "    <tr style=\"text-align: right;\">\n",
       "      <th></th>\n",
       "      <th>predicted_label</th>\n",
       "      <th>probability</th>\n",
       "      <th>custom_predicted_label</th>\n",
       "    </tr>\n",
       "  </thead>\n",
       "  <tbody>\n",
       "    <tr>\n",
       "      <th>0</th>\n",
       "      <td>True.</td>\n",
       "      <td>0.6737548112869263</td>\n",
       "      <td>True.</td>\n",
       "    </tr>\n",
       "    <tr>\n",
       "      <th>1</th>\n",
       "      <td>True.</td>\n",
       "      <td>0.8799008131027222</td>\n",
       "      <td>True.</td>\n",
       "    </tr>\n",
       "    <tr>\n",
       "      <th>2</th>\n",
       "      <td>False.</td>\n",
       "      <td>0.29106569290161133</td>\n",
       "      <td>True.</td>\n",
       "    </tr>\n",
       "    <tr>\n",
       "      <th>3</th>\n",
       "      <td>False.</td>\n",
       "      <td>0.11236653476953506</td>\n",
       "      <td>True.</td>\n",
       "    </tr>\n",
       "    <tr>\n",
       "      <th>4</th>\n",
       "      <td>False.</td>\n",
       "      <td>0.007618059869855642</td>\n",
       "      <td>False.</td>\n",
       "    </tr>\n",
       "    <tr>\n",
       "      <th>...</th>\n",
       "      <td>...</td>\n",
       "      <td>...</td>\n",
       "      <td>...</td>\n",
       "    </tr>\n",
       "    <tr>\n",
       "      <th>995</th>\n",
       "      <td>True.</td>\n",
       "      <td>0.9322512745857239</td>\n",
       "      <td>True.</td>\n",
       "    </tr>\n",
       "    <tr>\n",
       "      <th>996</th>\n",
       "      <td>True.</td>\n",
       "      <td>0.9708477854728699</td>\n",
       "      <td>True.</td>\n",
       "    </tr>\n",
       "    <tr>\n",
       "      <th>997</th>\n",
       "      <td>False.</td>\n",
       "      <td>0.12182019650936127</td>\n",
       "      <td>True.</td>\n",
       "    </tr>\n",
       "    <tr>\n",
       "      <th>998</th>\n",
       "      <td>False.</td>\n",
       "      <td>0.11457133293151855</td>\n",
       "      <td>True.</td>\n",
       "    </tr>\n",
       "    <tr>\n",
       "      <th>999</th>\n",
       "      <td>True.</td>\n",
       "      <td>0.9944961667060852</td>\n",
       "      <td>True.</td>\n",
       "    </tr>\n",
       "  </tbody>\n",
       "</table>\n",
       "<p>1000 rows × 3 columns</p>\n",
       "</div>"
      ],
      "text/plain": [
       "    predicted_label           probability custom_predicted_label\n",
       "0             True.    0.6737548112869263                  True.\n",
       "1             True.    0.8799008131027222                  True.\n",
       "2            False.   0.29106569290161133                  True.\n",
       "3            False.   0.11236653476953506                  True.\n",
       "4            False.  0.007618059869855642                 False.\n",
       "..              ...                   ...                    ...\n",
       "995           True.    0.9322512745857239                  True.\n",
       "996           True.    0.9708477854728699                  True.\n",
       "997          False.   0.12182019650936127                  True.\n",
       "998          False.   0.11457133293151855                  True.\n",
       "999           True.    0.9944961667060852                  True.\n",
       "\n",
       "[1000 rows x 3 columns]"
      ]
     },
     "execution_count": 31,
     "metadata": {},
     "output_type": "execute_result"
    }
   ],
   "source": [
    "prediction = predictor.predict(test_data_no_target.to_csv(sep=\",\", header=False, index=False))\n",
    "prediction_df = pd.DataFrame(prediction, columns=inference_response_keys)\n",
    "custom_predicted_labels = prediction_df.iloc[:, 1].astype(float).values >= best_candidate_threshold\n",
    "prediction_df[\"custom_predicted_label\"] = custom_predicted_labels\n",
    "prediction_df[\"custom_predicted_label\"] = prediction_df[\"custom_predicted_label\"].map(\n",
    "    {False: target_attribute_values[0], True: target_attribute_values[1]}\n",
    ")\n",
    "prediction_df"
   ]
  },
  {
   "cell_type": "markdown",
   "metadata": {},
   "source": [
    "---\n",
    "## Cleanup <a name=\"Cleanup\"></a>\n",
    "\n",
    "The Autopilot job creates many underlying artifacts such as dataset splits, preprocessing scripts, or preprocessed data, etc. This code, when un-commented, deletes them. This operation deletes all the generated models and the auto-generated notebooks as well. "
   ]
  },
  {
   "cell_type": "code",
   "execution_count": 32,
   "metadata": {},
   "outputs": [],
   "source": [
    "# s3 = boto3.resource('s3')\n",
    "# s3_bucket = s3.Bucket(bucket)\n",
    "\n",
    "# s3_bucket.objects.filter(Prefix=prefix).delete()"
   ]
  },
  {
   "cell_type": "markdown",
   "metadata": {},
   "source": [
    "Finally, we delete the models and the endpoint."
   ]
  },
  {
   "cell_type": "code",
   "execution_count": 33,
   "metadata": {},
   "outputs": [],
   "source": [
    "# for transformer in transformers:\n",
    "#     transformer.delete_model()\n",
    "\n",
    "# predictor.delete_endpoint()\n",
    "# predictor.delete_model()"
   ]
  }
 ],
 "metadata": {
  "celltoolbar": "Tags",
  "kernelspec": {
   "display_name": "Python 3 (Data Science)",
   "language": "python",
   "name": "python3__SAGEMAKER_INTERNAL__arn:aws:sagemaker:us-east-1:081325390199:image/datascience-1.0"
  },
  "language_info": {
   "codemirror_mode": {
    "name": "ipython",
    "version": 3
   },
   "file_extension": ".py",
   "mimetype": "text/x-python",
   "name": "python",
   "nbconvert_exporter": "python",
   "pygments_lexer": "ipython3",
   "version": "3.7.10"
  },
  "notice": "Copyright 2017 Amazon.com, Inc. or its affiliates. All Rights Reserved.  Licensed under the Apache License, Version 2.0 (the \"License\"). You may not use this file except in compliance with the License. A copy of the License is located at http://aws.amazon.com/apache2.0/ or in the \"license\" file accompanying this file. This file is distributed on an \"AS IS\" BASIS, WITHOUT WARRANTIES OR CONDITIONS OF ANY KIND, either express or implied. See the License for the specific language governing permissions and limitations under the License."
 },
 "nbformat": 4,
 "nbformat_minor": 4
}
