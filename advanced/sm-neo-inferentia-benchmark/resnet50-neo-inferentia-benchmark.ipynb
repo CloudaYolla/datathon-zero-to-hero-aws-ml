{
 "cells": [
  {
   "cell_type": "code",
   "execution_count": 1,
   "metadata": {},
   "outputs": [
    {
     "name": "stdout",
     "output_type": "stream",
     "text": [
      "\u001b[33mWARNING: Value for scheme.headers does not match. Please report this to <https://github.com/pypa/pip/issues/9617>\n",
      "distutils: /opt/conda/include/python3.6m/UNKNOWN\n",
      "sysconfig: /opt/conda/include/python3.6m\u001b[0m\n",
      "\u001b[33mWARNING: Additional context:\n",
      "user = False\n",
      "home = None\n",
      "root = None\n",
      "prefix = None\u001b[0m\n",
      "\u001b[33mWARNING: Value for scheme.headers does not match. Please report this to <https://github.com/pypa/pip/issues/9617>\n",
      "distutils: /opt/conda/include/python3.6m/UNKNOWN\n",
      "sysconfig: /opt/conda/include/python3.6m\u001b[0m\n",
      "\u001b[33mWARNING: Additional context:\n",
      "user = False\n",
      "home = None\n",
      "root = None\n",
      "prefix = None\u001b[0m\n",
      "\u001b[33mWARNING: Running pip as root will break packages and permissions. You should install packages reliably by using venv: https://pip.pypa.io/warnings/venv\u001b[0m\n"
     ]
    }
   ],
   "source": [
    "!pip install -q -U sagemaker"
   ]
  },
  {
   "cell_type": "code",
   "execution_count": 2,
   "metadata": {},
   "outputs": [
    {
     "name": "stdout",
     "output_type": "stream",
     "text": [
      "\u001b[33mWARNING: Value for scheme.headers does not match. Please report this to <https://github.com/pypa/pip/issues/9617>\n",
      "distutils: /opt/conda/include/python3.6m/UNKNOWN\n",
      "sysconfig: /opt/conda/include/python3.6m\u001b[0m\n",
      "\u001b[33mWARNING: Additional context:\n",
      "user = False\n",
      "home = None\n",
      "root = None\n",
      "prefix = None\u001b[0m\n",
      "\u001b[33mWARNING: Value for scheme.headers does not match. Please report this to <https://github.com/pypa/pip/issues/9617>\n",
      "distutils: /opt/conda/include/python3.6m/UNKNOWN\n",
      "sysconfig: /opt/conda/include/python3.6m\u001b[0m\n",
      "\u001b[33mWARNING: Additional context:\n",
      "user = False\n",
      "home = None\n",
      "root = None\n",
      "prefix = None\u001b[0m\n",
      "\u001b[33mWARNING: Running pip as root will break packages and permissions. You should install packages reliably by using venv: https://pip.pypa.io/warnings/venv\u001b[0m\n"
     ]
    }
   ],
   "source": [
    "!pip install -q -U ipywidgets"
   ]
  },
  {
   "cell_type": "markdown",
   "metadata": {},
   "source": [
    "# ResNet-50 comparison: compiled vs uncompiled, featuring Inferentia\n",
    "\n",
    "In this notebook we will see how to deploy a pretrained model from the PyTorch Vision library, in particular a ResNet50, to Amazon SageMaker. We will also test how it performs on different hardware configurations, and the effects of model compilation with Amazon SageMaker Neo. In a nutshell, we will test:\n",
    "\n",
    "- ResNet50 on a ml.c5.xlarge, uncompiled\n",
    "- ResNet50 on a ml.g4dn.xlarge, uncompiled\n",
    "- ResNet50 on a ml.c5.xlarge, compiled\n",
    "- ResNet50 on a ml.g4dn.xlarge, compiled\n",
    "- ResNet50 on a ml.inf1.xlarge, compiled"
   ]
  },
  {
   "cell_type": "markdown",
   "metadata": {},
   "source": [
    "### Set-up model and SageMaker helper functions"
   ]
  },
  {
   "cell_type": "code",
   "execution_count": 3,
   "metadata": {},
   "outputs": [
    {
     "name": "stdout",
     "output_type": "stream",
     "text": [
      "2.58.0\n"
     ]
    }
   ],
   "source": [
    "import sagemaker\n",
    "from sagemaker import Session, get_execution_role\n",
    "from sagemaker.pytorch.model import PyTorchModel\n",
    "from sagemaker.utils import name_from_base\n",
    "\n",
    "print(sagemaker.__version__)\n",
    "\n",
    "sess = Session()\n",
    "bucket = sess.default_bucket()\n",
    "role = get_execution_role()\n",
    "endpoints = {}"
   ]
  },
  {
   "cell_type": "markdown",
   "metadata": {},
   "source": [
    "Let's download the model for the PyTorch Hub, and create an archive that can be used by SageMaker to deploy this model. For using PyTorch in Script Mode, Amazon SageMaker expects a single archive file in `.tar.gz` format, containing a model file and the code for inference in a `code` folder. The structure of the archive will be as follows: \n",
    "\n",
    "```\n",
    "/model.tar.gz\n",
    "/--- model.pth\n",
    "/--- code/\n",
    "/--- /--- inference.py\n",
    "/--- /--- requirements.txt (optional)\n",
    "```\n",
    "\n",
    "By setting the variable `download_the_model=False`, you can skip the download phase and provide your own path to S3 in the `model_data` variable."
   ]
  },
  {
   "cell_type": "code",
   "execution_count": 4,
   "metadata": {},
   "outputs": [
    {
     "name": "stderr",
     "output_type": "stream",
     "text": [
      "Using cache found in /root/.cache/torch/hub/pytorch_vision_v0.9.0\n",
      "Downloading: \"https://download.pytorch.org/models/resnet50-19c8e357.pth\" to /root/.cache/torch/hub/checkpoints/resnet50-19c8e357.pth\n"
     ]
    },
    {
     "data": {
      "application/vnd.jupyter.widget-view+json": {
       "model_id": "2193b3c13810416c9d9f20c1e232ab64",
       "version_major": 2,
       "version_minor": 0
      },
      "text/plain": [
       "HBox(children=(HTML(value=''), FloatProgress(value=0.0, max=102502400.0), HTML(value='')))"
      ]
     },
     "metadata": {},
     "output_type": "display_data"
    },
    {
     "name": "stdout",
     "output_type": "stream",
     "text": [
      "\n",
      "[2021-08-31 17:21:28.947 pytorch-1-6-cpu-py36--ml-t3-medium-370ee60fbc7a856e8f67ac271515:176 INFO utils.py:27] RULE_JOB_STOP_SIGNAL_FILENAME: None\n",
      "[2021-08-31 17:21:29.300 pytorch-1-6-cpu-py36--ml-t3-medium-370ee60fbc7a856e8f67ac271515:176 INFO profiler_config_parser.py:102] Unable to find config at /opt/ml/input/config/profilerconfig.json. Profiler is disabled.\n",
      "Model stored in s3://sagemaker-us-east-1-503254810580/pytorch/resnet50/model.tar.gz\n"
     ]
    }
   ],
   "source": [
    "download_the_model = True\n",
    "\n",
    "if download_the_model:\n",
    "    import torch, tarfile\n",
    "    # Load the model\n",
    "    model = torch.hub.load('pytorch/vision:v0.9.0', 'resnet50', pretrained=True)\n",
    "    inp = torch.rand(1, 3, 224, 224)\n",
    "    model_trace = torch.jit.trace(model, inp)\n",
    "    # Save your model. The following code saves it with the .pth file extension\n",
    "    model_trace.save('model.pth')\n",
    "    with tarfile.open('model.tar.gz', 'w:gz') as f:\n",
    "        f.add('model.pth')\n",
    "        f.add('code/uncompiled-inference.py', 'code/inference.py')\n",
    "    f.close()\n",
    "    pytorch_resnet50_prefix = 'pytorch/resnet50'\n",
    "    model_data = sess.upload_data('model.tar.gz', bucket, pytorch_resnet50_prefix)\n",
    "else:\n",
    "    pytorch_resnet50_prefix = 'pytorch/resnet50'\n",
    "    model_data = f's3://{bucket}/{pytorch_resnet50_prefix}/model.tar.gz'\n",
    "    \n",
    "print(f'Model stored in {model_data}')"
   ]
  },
  {
   "cell_type": "markdown",
   "metadata": {},
   "source": [
    "## Deploy and test on CPU\n",
    "\n",
    "In our first test, we will deploy the model on a `ml.c5.xlarge` instance, without compiling the model. Although this is a CNN, it is still possible to run it on CPU, although the performances won't be that good. This can give us a nice baseline of the performances of our model."
   ]
  },
  {
   "cell_type": "code",
   "execution_count": 5,
   "metadata": {},
   "outputs": [],
   "source": [
    "pth_model = PyTorchModel(model_data=model_data,\n",
    "        entry_point='uncompiled-inference.py',\n",
    "        source_dir='code',\n",
    "        role=role,\n",
    "        framework_version='1.7',\n",
    "        py_version='py3'\n",
    ")"
   ]
  },
  {
   "cell_type": "code",
   "execution_count": 6,
   "metadata": {},
   "outputs": [
    {
     "name": "stderr",
     "output_type": "stream",
     "text": [
      "INFO:sagemaker:Creating model with name: pytorch-inference-2021-08-31-17-22-05-580\n",
      "INFO:sagemaker:Creating endpoint with name pytorch-inference-2021-08-31-17-22-05-881\n"
     ]
    },
    {
     "name": "stdout",
     "output_type": "stream",
     "text": [
      "-------------!"
     ]
    }
   ],
   "source": [
    "predictor = pth_model.deploy(1, 'ml.c5.xlarge')"
   ]
  },
  {
   "cell_type": "code",
   "execution_count": 7,
   "metadata": {},
   "outputs": [
    {
     "data": {
      "text/plain": [
       "'pytorch-inference-2021-08-31-17-22-05-881'"
      ]
     },
     "execution_count": 7,
     "metadata": {},
     "output_type": "execute_result"
    }
   ],
   "source": [
    "endpoints['cpu_uncompiled'] = predictor.endpoint_name\n",
    "predictor.endpoint_name"
   ]
  },
  {
   "cell_type": "markdown",
   "metadata": {},
   "source": [
    "## Deploy and test on GPU\n",
    "\n",
    "The instance chosen this time is a `ml.g4dn.xlarge`. It has great throughput and the cheapest way of running GPU inferences on the AWS cloud."
   ]
  },
  {
   "cell_type": "code",
   "execution_count": 8,
   "metadata": {},
   "outputs": [],
   "source": [
    "pth_model = PyTorchModel(model_data=model_data,\n",
    "     entry_point='uncompiled-inference.py',\n",
    "     source_dir='code',\n",
    "     role=role,\n",
    "     framework_version='1.6',\n",
    "     py_version='py3'\n",
    ")"
   ]
  },
  {
   "cell_type": "code",
   "execution_count": 9,
   "metadata": {},
   "outputs": [
    {
     "name": "stderr",
     "output_type": "stream",
     "text": [
      "INFO:sagemaker:Creating model with name: pytorch-inference-2021-08-31-17-28-56-587\n",
      "INFO:sagemaker:Creating endpoint with name pytorch-inference-2021-08-31-17-28-56-902\n"
     ]
    },
    {
     "name": "stdout",
     "output_type": "stream",
     "text": [
      "---------------!"
     ]
    }
   ],
   "source": [
    "predictor = pth_model.deploy(1, 'ml.g4dn.xlarge')"
   ]
  },
  {
   "cell_type": "code",
   "execution_count": 10,
   "metadata": {},
   "outputs": [
    {
     "data": {
      "text/plain": [
       "'pytorch-inference-2021-08-31-17-28-56-902'"
      ]
     },
     "execution_count": 10,
     "metadata": {},
     "output_type": "execute_result"
    }
   ],
   "source": [
    "endpoints['gpu_uncompiled'] = predictor.endpoint_name\n",
    "predictor.endpoint_name"
   ]
  },
  {
   "cell_type": "markdown",
   "metadata": {},
   "source": [
    "# Compiled Models\n",
    "\n",
    "A common tactic in more advanced use cases is to improve model performances, in terms of latency and throughput, by compiling the model. \n",
    "\n",
    "Amazon SageMaker features its own compiler, Amazon SageMaker Neo, that enables data scientists to optimize ML models for inference on SageMaker in the cloud and supported devices at the edge.\n",
    "\n",
    "You start with a machine learning model already built with DarkNet, Keras, MXNet, PyTorch, TensorFlow, TensorFlow-Lite, ONNX, or XGBoost and trained in Amazon SageMaker or anywhere else. Then you choose your target hardware platform, which can be a SageMaker hosting instance or an edge device based on processors from Ambarella, Apple, ARM, Intel, MediaTek, Nvidia, NXP, Qualcomm, RockChip, Texas Instruments, or Xilinx. With a single click, SageMaker Neo optimizes the trained model and compiles it into an executable. \n",
    "\n",
    "For inference in the cloud, SageMaker Neo speeds up inference and saves cost by creating an inference optimized container in SageMaker hosting. For inference at the edge, SageMaker Neo saves developers months of manual tuning by automatically tuning the model for the selected operating system and processor hardware."
   ]
  },
  {
   "cell_type": "markdown",
   "metadata": {},
   "source": [
    "### Create the `model_data` for compilation\n",
    "\n",
    "To compile the model, we need to provide a `tar.gz` archive just like before, with very few changes. In particular, since SageMaker will use a different DL runtime for running compiled models, we will let it use the default function for serving the model, and only provide a script containing how to preprocess data. Let's create this archive and uplaod it to S3."
   ]
  },
  {
   "cell_type": "code",
   "execution_count": 11,
   "metadata": {},
   "outputs": [],
   "source": [
    "import tarfile \n",
    "\n",
    "with tarfile.open('model-to-compile.tar.gz', 'w:gz') as f:\n",
    "    f.add('model.pth')\n",
    "    f.add('code/compiled-inference.py', 'code/inference.py')\n",
    "f.close()\n",
    "model_data = sess.upload_data('model-to-compile.tar.gz', bucket, pytorch_resnet50_prefix)"
   ]
  },
  {
   "cell_type": "code",
   "execution_count": 12,
   "metadata": {},
   "outputs": [],
   "source": [
    "output_path = f's3://{bucket}/{pytorch_resnet50_prefix}/compiled'"
   ]
  },
  {
   "cell_type": "markdown",
   "metadata": {},
   "source": [
    "## Compile for CPU\n",
    "\n",
    "Let's run the same baseline test from before, and compile and deploy for CPU instances."
   ]
  },
  {
   "cell_type": "code",
   "execution_count": 13,
   "metadata": {},
   "outputs": [],
   "source": [
    "pth_model = PyTorchModel(model_data=model_data,\n",
    "        entry_point='compiled-inference.py',\n",
    "        source_dir='code',\n",
    "        role=role,\n",
    "        framework_version='1.6',\n",
    "        py_version='py3'\n",
    ")"
   ]
  },
  {
   "cell_type": "code",
   "execution_count": 14,
   "metadata": {},
   "outputs": [
    {
     "name": "stderr",
     "output_type": "stream",
     "text": [
      "INFO:sagemaker:Creating compilation-job with name: pytorch-resnet50-c5-2021-08-31-17-36-37-888\n"
     ]
    },
    {
     "name": "stdout",
     "output_type": "stream",
     "text": [
      "???????????????????????????????????.............................................................!"
     ]
    },
    {
     "name": "stderr",
     "output_type": "stream",
     "text": [
      "INFO:sagemaker.image_uris:Defaulting to only available Python version: py3\n"
     ]
    }
   ],
   "source": [
    "output_path = f's3://{bucket}/{pytorch_resnet50_prefix}/compiled'\n",
    "\n",
    "compiled_model = pth_model.compile(\n",
    "    target_instance_family='ml_c5',\n",
    "    input_shape={\"input0\": [1, 3, 224, 224]},\n",
    "    output_path=output_path,\n",
    "    role=role,\n",
    "    job_name=name_from_base(f'pytorch-resnet50-c5')\n",
    ")"
   ]
  },
  {
   "cell_type": "code",
   "execution_count": 15,
   "metadata": {},
   "outputs": [
    {
     "name": "stderr",
     "output_type": "stream",
     "text": [
      "INFO:sagemaker:Creating model with name: sagemaker-inference-pytorch-ml-c5-2021-08-31-17-44-59-915\n",
      "INFO:sagemaker:Creating endpoint with name sagemaker-inference-pytorch-ml-c5-2021-08-31-17-45-00-378\n"
     ]
    },
    {
     "name": "stdout",
     "output_type": "stream",
     "text": [
      "-----------!"
     ]
    }
   ],
   "source": [
    "predictor = compiled_model.deploy(1, 'ml.c5.xlarge')"
   ]
  },
  {
   "cell_type": "code",
   "execution_count": 16,
   "metadata": {},
   "outputs": [
    {
     "data": {
      "text/plain": [
       "'sagemaker-inference-pytorch-ml-c5-2021-08-31-17-45-00-378'"
      ]
     },
     "execution_count": 16,
     "metadata": {},
     "output_type": "execute_result"
    }
   ],
   "source": [
    "endpoints['cpu_compiled'] = predictor.endpoint_name\n",
    "predictor.endpoint_name"
   ]
  },
  {
   "cell_type": "markdown",
   "metadata": {},
   "source": [
    "## Compile for GPU"
   ]
  },
  {
   "cell_type": "code",
   "execution_count": 17,
   "metadata": {},
   "outputs": [],
   "source": [
    "pth_model = PyTorchModel(model_data=model_data,\n",
    "                     entry_point='compiled-inference.py',\n",
    "                     source_dir='code',\n",
    "                     role=role,\n",
    "                     framework_version='1.6',\n",
    "                     py_version='py3'\n",
    "                    )"
   ]
  },
  {
   "cell_type": "code",
   "execution_count": 18,
   "metadata": {},
   "outputs": [
    {
     "name": "stderr",
     "output_type": "stream",
     "text": [
      "INFO:sagemaker:Creating compilation-job with name: pytorch-resnet50-g4dn-2021-08-31-17-50-32-270\n"
     ]
    },
    {
     "name": "stdout",
     "output_type": "stream",
     "text": [
      "???????????????????????????????.................................................!"
     ]
    },
    {
     "name": "stderr",
     "output_type": "stream",
     "text": [
      "INFO:sagemaker.image_uris:Defaulting to only available Python version: py3\n"
     ]
    }
   ],
   "source": [
    "output_path = f's3://{bucket}/{pytorch_resnet50_prefix}/compiled'\n",
    "\n",
    "compiled_model = pth_model.compile(\n",
    "    target_instance_family='ml_g4dn',\n",
    "    input_shape={\"input0\": [1, 3, 224, 224]},\n",
    "    output_path=output_path,\n",
    "    role=role,\n",
    "    job_name=name_from_base(f'pytorch-resnet50-g4dn')\n",
    ")"
   ]
  },
  {
   "cell_type": "code",
   "execution_count": 19,
   "metadata": {},
   "outputs": [
    {
     "name": "stderr",
     "output_type": "stream",
     "text": [
      "INFO:sagemaker:Creating model with name: sagemaker-inference-pytorch-ml-g4dn-2021-08-31-17-57-34-298\n",
      "INFO:sagemaker:Creating endpoint with name sagemaker-inference-pytorch-ml-g4dn-2021-08-31-17-57-34-897\n"
     ]
    },
    {
     "name": "stdout",
     "output_type": "stream",
     "text": [
      "-----------------!"
     ]
    }
   ],
   "source": [
    "predictor = compiled_model.deploy(1, 'ml.g4dn.xlarge')"
   ]
  },
  {
   "cell_type": "code",
   "execution_count": 20,
   "metadata": {},
   "outputs": [
    {
     "data": {
      "text/plain": [
       "'sagemaker-inference-pytorch-ml-g4dn-2021-08-31-17-57-34-897'"
      ]
     },
     "execution_count": 20,
     "metadata": {},
     "output_type": "execute_result"
    }
   ],
   "source": [
    "endpoints['gpu_compiled'] = predictor.endpoint_name\n",
    "predictor.endpoint_name"
   ]
  },
  {
   "cell_type": "code",
   "execution_count": 21,
   "metadata": {},
   "outputs": [
    {
     "name": "stdout",
     "output_type": "stream",
     "text": [
      "1\n"
     ]
    }
   ],
   "source": [
    "print(1)"
   ]
  },
  {
   "cell_type": "markdown",
   "metadata": {},
   "source": [
    "## Compile for Inferentia instances\n",
    "\n",
    "There is one more thing we can try to improve our model performances: using Inferentia instances.\n",
    "\n",
    "Amazon EC2 Inf1 instances deliver high-performance ML inference at the lowest cost in the cloud. They deliver up to 2.3x higher throughput and up to 70% lower cost per inference than comparable current generation GPU-based Amazon EC2 instances. Inf1 instances are built from the ground up to support machine learning inference applications. They feature up to 16 AWS Inferentia chips, high-performance machine learning inference chips designed and built by AWS."
   ]
  },
  {
   "cell_type": "code",
   "execution_count": 22,
   "metadata": {},
   "outputs": [],
   "source": [
    "pth_model = PyTorchModel(\n",
    "    model_data=model_data,\n",
    "    entry_point='compiled-inference.py',\n",
    "    source_dir='code',\n",
    "    role=role,\n",
    "    framework_version='1.7',\n",
    "    py_version='py3'\n",
    ")"
   ]
  },
  {
   "cell_type": "code",
   "execution_count": 23,
   "metadata": {},
   "outputs": [
    {
     "name": "stderr",
     "output_type": "stream",
     "text": [
      "INFO:sagemaker:Creating compilation-job with name: pytorch-resnet50-inf1-2021-08-31-18-06-07-516\n"
     ]
    },
    {
     "name": "stdout",
     "output_type": "stream",
     "text": [
      "?????????????????????????????????.....................................................................................!"
     ]
    },
    {
     "name": "stderr",
     "output_type": "stream",
     "text": [
      "WARNING:sagemaker.image_uris:Defaulting to the only supported framework/algorithm version: 1.5.1. Ignoring framework/algorithm version: 1.7.\n",
      "INFO:sagemaker.image_uris:Defaulting to only available Python version: py3\n"
     ]
    }
   ],
   "source": [
    "compiled_model = pth_model.compile(\n",
    "    target_instance_family='ml_inf1',\n",
    "    input_shape={\"input0\": [1, 3, 224, 224]},\n",
    "    output_path=output_path,\n",
    "    role=role,\n",
    "    job_name=name_from_base(f'pytorch-resnet50-inf1'),\n",
    "    compile_max_run=1000\n",
    ")"
   ]
  },
  {
   "cell_type": "code",
   "execution_count": 24,
   "metadata": {},
   "outputs": [
    {
     "name": "stderr",
     "output_type": "stream",
     "text": [
      "INFO:sagemaker:Creating model with name: sagemaker-neo-pytorch-ml-inf1-2021-08-31-18-16-16-199\n",
      "INFO:sagemaker:Creating endpoint with name sagemaker-neo-pytorch-ml-inf1-2021-08-31-18-16-16-641\n"
     ]
    },
    {
     "name": "stdout",
     "output_type": "stream",
     "text": [
      "-------------!"
     ]
    }
   ],
   "source": [
    "predictor = compiled_model.deploy(1, 'ml.inf1.xlarge')"
   ]
  },
  {
   "cell_type": "code",
   "execution_count": 25,
   "metadata": {},
   "outputs": [
    {
     "data": {
      "text/plain": [
       "'sagemaker-neo-pytorch-ml-inf1-2021-08-31-18-16-16-641'"
      ]
     },
     "execution_count": 25,
     "metadata": {},
     "output_type": "execute_result"
    }
   ],
   "source": [
    "endpoints['inferentia'] = predictor.endpoint_name\n",
    "predictor.endpoint_name"
   ]
  },
  {
   "cell_type": "markdown",
   "metadata": {},
   "source": [
    "# Test"
   ]
  },
  {
   "cell_type": "markdown",
   "metadata": {},
   "source": [
    "For testing our models and endpoints, we will use the following picture of a beagle pup, freely available on [Wikimedia](https://commons.wikimedia.org/wiki/File:Beagle_puppy_sitting_on_grass.jpg). We will pass it to our endpoints as `application/x-image`, and no particular pre-processing is needed on client-side. "
   ]
  },
  {
   "cell_type": "code",
   "execution_count": 26,
   "metadata": {},
   "outputs": [
    {
     "data": {
      "image/jpeg": "[encoded data removed]",
      "text/plain": [
       "<IPython.core.display.Image object>"
      ]
     },
     "execution_count": 26,
     "metadata": {},
     "output_type": "execute_result"
    }
   ],
   "source": [
    "from IPython.display import Image\n",
    "\n",
    "Image('doggo.jpg')"
   ]
  },
  {
   "cell_type": "markdown",
   "metadata": {},
   "source": [
    "Finally, we will use the following function to benchmark our SageMaker endpoints, measuring the latency of our predictions. This specific version uses both the `Predictor` from the SageMaker Python SDK and boto3's `invoke_endpoint()` function - just change the last parameter from `boto3` to `sm` if you want to use the Python SDK."
   ]
  },
  {
   "cell_type": "code",
   "execution_count": 27,
   "metadata": {},
   "outputs": [
    {
     "data": {
      "application/json": {
       "cpu_compiled": "sagemaker-inference-pytorch-ml-c5-2021-08-31-17-45-00-378",
       "cpu_uncompiled": "pytorch-inference-2021-08-31-17-22-05-881",
       "gpu_compiled": "sagemaker-inference-pytorch-ml-g4dn-2021-08-31-17-57-34-897",
       "gpu_uncompiled": "pytorch-inference-2021-08-31-17-28-56-902",
       "inferentia": "sagemaker-neo-pytorch-ml-inf1-2021-08-31-18-16-16-641"
      },
      "text/plain": [
       "<IPython.core.display.JSON object>"
      ]
     },
     "execution_count": 27,
     "metadata": {
      "application/json": {
       "expanded": false,
       "root": "root"
      }
     },
     "output_type": "execute_result"
    }
   ],
   "source": [
    "from load_test import load_tester\n",
    "\n",
    "num_thread = 10\n",
    "\n",
    "from IPython.display import JSON\n",
    "JSON(endpoints)"
   ]
  },
  {
   "cell_type": "code",
   "execution_count": 28,
   "metadata": {},
   "outputs": [
    {
     "name": "stdout",
     "output_type": "stream",
     "text": [
      "Using boto3 for requests.\n",
      " TPS  |  P50  |  P90  |  P95  |  P99  |  err  \n",
      "0.000|0.00000|0.00000|0.00000|0.00000 |   0\n",
      "0.000|0.00000|0.00000|0.00000|0.00000 |   0\n",
      "0.000|0.00000|0.00000|0.00000|0.00000 |   0\n",
      "0.000|0.00000|0.00000|0.00000|0.00000 |   0\n",
      "0.000|0.00000|0.00000|0.00000|0.00000 |   0\n",
      "0.000|0.00000|0.00000|0.00000|0.00000 |   0\n",
      "0.000|0.00000|0.00000|0.00000|0.00000 |   0\n",
      "0.000|0.00000|0.00000|0.00000|0.00000 |   0\n",
      "0.000|0.00000|0.00000|0.00000|0.00000 |   0\n",
      "0.000|0.00000|0.00000|0.00000|0.00000 |   0\n",
      "0.000|0.00000|0.00000|0.00000|0.00000 |   0\n",
      "0.000|0.00000|0.00000|0.00000|0.00000 |   0\n",
      "0.000|0.00000|0.00000|0.00000|0.00000 |   0\n",
      "0.000|0.00000|0.00000|0.00000|0.00000 |   0\n",
      "0.000|0.00000|0.00000|0.00000|0.00000 |   0\n",
      "0.000|0.00000|0.00000|0.00000|0.00000 |   0\n",
      "0.000|0.00000|0.00000|0.00000|0.00000 |   0\n",
      "0.200|78.76754|85.07043|85.85829|86.48858 |   0\n",
      "5.700|155.91395|171.87129|175.73029|201.72387 |   0\n",
      "6.000|166.13927|172.52823|176.70245|225.62279 |   0\n"
     ]
    }
   ],
   "source": [
    "# CPU - Uncompiled\n",
    "load_tester(num_thread, endpoints['cpu_uncompiled'], 'doggo.jpg', 'boto3')"
   ]
  },
  {
   "cell_type": "markdown",
   "metadata": {},
   "source": [
    "Let's discuss the above results:\n",
    "\n",
    "as we can from the latency tests, the model way too long to generate an inference, averaging about 6 transactions per second (TPS). This of course may be sufficient for some low throughput use cases, rarely used instances, but it's very likely that it won't be sufficient. Let's see how those numbers change when using a GPU."
   ]
  },
  {
   "cell_type": "code",
   "execution_count": 29,
   "metadata": {},
   "outputs": [
    {
     "name": "stdout",
     "output_type": "stream",
     "text": [
      "Using boto3 for requests.\n",
      " TPS  |  P50  |  P90  |  P95  |  P99  |  err  \n",
      "0.000|0.00000|0.00000|0.00000|0.00000 |   0\n",
      "0.000|0.00000|0.00000|0.00000|0.00000 |   0\n",
      "0.000|0.00000|0.00000|0.00000|0.00000 |   0\n",
      "56.700|11.92861|14.39271|17.48561|59.95147 |   0\n",
      "72.600|12.06815|14.78268|16.16830|87.20263 |   0\n",
      "70.000|13.24477|15.84645|17.47667|34.41328 |   0\n",
      "73.800|12.97106|14.54530|15.71153|23.98152 |   0\n",
      "71.300|12.96866|15.73828|17.75438|36.92832 |   0\n",
      "71.000|12.79871|15.43700|17.13457|36.92832 |   0\n",
      "68.300|13.28057|17.42352|19.57432|27.14689 |   0\n",
      "71.600|12.79484|16.22575|18.84946|59.15414 |   0\n",
      "70.000|12.90362|17.58108|21.17657|37.01483 |   0\n",
      "69.800|12.99359|17.78310|22.46778|33.85295 |   0\n",
      "68.600|13.00310|20.23835|22.92654|27.60176 |   0\n",
      "74.800|12.90861|18.27541|21.92085|27.78646 |   0\n",
      "71.900|12.27808|15.94523|21.44509|48.50908 |   0\n",
      "73.700|11.82278|14.27617|17.49190|76.69132 |   0\n",
      "72.800|12.26642|15.04871|19.79050|58.15688 |   0\n",
      "72.500|12.80625|17.65294|20.84306|25.23475 |   0\n",
      "75.000|12.76021|15.41065|18.52521|47.67512 |   0\n"
     ]
    }
   ],
   "source": [
    "# GPU - Uncompiled\n",
    "load_tester(num_thread, endpoints['gpu_uncompiled'], 'doggo.jpg', 'boto3')"
   ]
  },
  {
   "cell_type": "markdown",
   "metadata": {},
   "source": [
    "Now we're talking! The GPU helps us achieve 77 TPS on average, with a much lower latency percentile over the board. Nice!"
   ]
  },
  {
   "cell_type": "code",
   "execution_count": 30,
   "metadata": {},
   "outputs": [
    {
     "name": "stdout",
     "output_type": "stream",
     "text": [
      "Using boto3 for requests.\n",
      " TPS  |  P50  |  P90  |  P95  |  P99  |  err  \n",
      "0.000|0.00000|0.00000|0.00000|0.00000 |   0\n",
      "0.000|0.00000|0.00000|0.00000|0.00000 |   0\n",
      "0.000|0.00000|0.00000|0.00000|0.00000 |   0\n",
      "0.000|0.00000|0.00000|0.00000|0.00000 |   0\n",
      "0.000|0.00000|0.00000|0.00000|0.00000 |   0\n",
      "0.000|0.00000|0.00000|0.00000|0.00000 |   0\n",
      "0.000|0.00000|0.00000|0.00000|0.00000 |   0\n",
      "0.000|0.00000|0.00000|0.00000|0.00000 |   0\n",
      "7.900|57.14409|67.26350|73.67674|121.83297 |   0\n",
      "13.800|71.22858|73.92181|74.39245|124.80958 |   0\n",
      "13.900|71.27490|73.85485|74.30752|134.28994 |   0\n",
      "13.800|71.26693|73.89220|74.37189|134.80107 |   0\n",
      "13.900|71.30187|73.88253|74.32875|141.55820 |   0\n",
      "13.700|71.33247|73.93199|74.41666|145.12058 |   0\n",
      "13.900|71.32087|73.92348|74.33946|144.21814 |   0\n",
      "13.900|71.36898|73.96459|74.48472|145.20467 |   0\n",
      "13.800|71.40024|73.95375|74.47929|145.10530 |   0\n",
      "14.000|71.36917|73.94112|74.47767|149.84574 |   0\n",
      "13.800|71.32366|73.92067|74.33020|151.15497 |   0\n",
      "13.700|71.42456|74.14634|74.89344|149.84574 |   0\n"
     ]
    }
   ],
   "source": [
    "# CPU - Compiled\n",
    "load_tester(num_thread, endpoints['cpu_compiled'], 'doggo.jpg', 'boto3')"
   ]
  },
  {
   "cell_type": "markdown",
   "metadata": {},
   "source": [
    "With a simple compilation job, we more than DOUBLED the performances of our model on our c5 instance, achieving 13 TPS and half the latency percentiles. Let's see if the same results can be seen on GPU."
   ]
  },
  {
   "cell_type": "code",
   "execution_count": 31,
   "metadata": {},
   "outputs": [
    {
     "name": "stdout",
     "output_type": "stream",
     "text": [
      "Using boto3 for requests.\n",
      " TPS  |  P50  |  P90  |  P95  |  P99  |  err  \n",
      "0.000|0.00000|0.00000|0.00000|0.00000 |   0\n",
      "0.000|0.00000|0.00000|0.00000|0.00000 |   0\n",
      "48.300|10.33721|13.20235|14.15690|15.53596 |   0\n",
      "90.000|10.45644|13.63136|15.37362|23.14120 |   0\n",
      "91.400|10.35752|13.37405|14.54646|17.77084 |   0\n",
      "77.600|11.02759|16.45074|21.11872|30.65033 |   0\n",
      "87.700|10.90617|13.74325|14.58701|17.24176 |   0\n",
      "82.500|10.76761|15.91254|18.83674|24.82342 |   0\n",
      "84.200|10.80403|15.36344|19.14770|25.75664 |   0\n",
      "86.200|10.67767|14.61780|17.32253|27.69176 |   0\n",
      "88.200|10.93185|14.60000|16.67045|29.96926 |   0\n",
      "89.600|10.80165|13.56148|14.64857|17.82606 |   0\n",
      "68.400|11.85274|19.56891|24.22964|32.49792 |   0\n",
      "83.200|11.30711|16.34305|21.01813|26.29891 |   0\n",
      "80.400|11.48622|17.12589|20.91604|30.63688 |   0\n",
      "83.800|11.11979|16.78623|21.09067|24.99796 |   0\n",
      "91.900|10.47359|13.05248|14.06923|16.25819 |   0\n",
      "93.800|10.44657|12.97834|13.72357|15.41222 |   0\n",
      "86.500|10.83959|14.57594|16.99728|23.47948 |   0\n",
      "76.900|11.88010|19.11780|21.66129|25.76484 |   0\n"
     ]
    }
   ],
   "source": [
    "# GPU - Compiled\n",
    "load_tester(num_thread, endpoints['gpu_compiled'], 'doggo.jpg', 'boto3')"
   ]
  },
  {
   "cell_type": "markdown",
   "metadata": {},
   "source": [
    "Results are also consistent in the compiled version of the model on GPU. Almost double the TPS, with 7 ms latency. Let's take it one step further and test Inferentia."
   ]
  },
  {
   "cell_type": "code",
   "execution_count": 32,
   "metadata": {},
   "outputs": [
    {
     "name": "stdout",
     "output_type": "stream",
     "text": [
      "Using boto3 for requests.\n",
      " TPS  |  P50  |  P90  |  P95  |  P99  |  err  \n",
      "0.000|0.00000|0.00000|0.00000|0.00000 |   0\n",
      "0.000|0.00000|0.00000|0.00000|0.00000 |   0\n",
      "0.000|0.00000|0.00000|0.00000|0.00000 |   0\n",
      "69.200|11.26641|15.14696|16.91250|21.70814 |   0\n",
      "86.400|11.08124|14.80807|16.96858|21.56518 |   0\n",
      "73.800|11.48832|16.72649|19.03770|51.43133 |   0\n",
      "79.400|11.97226|19.11148|25.56905|54.52853 |   0\n",
      "82.900|11.12460|14.61058|18.39939|24.75614 |   0\n",
      "85.800|10.82882|14.53318|17.25974|25.90770 |   0\n",
      "85.900|10.64932|13.71804|14.86978|17.76797 |   0\n",
      "88.700|10.76516|13.81248|14.92376|18.76241 |   0\n",
      "79.700|11.29121|16.92132|21.37614|26.05416 |   0\n",
      "76.100|11.96214|19.98839|21.94265|27.30293 |   0\n",
      "86.000|11.40051|15.03325|16.49436|20.22982 |   0\n",
      "83.900|10.94478|14.99260|17.19742|24.24261 |   0\n",
      "84.100|10.28929|14.64003|17.26131|28.26015 |   0\n",
      "90.400|10.15711|13.33090|14.76866|18.23272 |   0\n",
      "86.400|10.82832|14.22139|15.93701|19.66827 |   0\n",
      "86.200|11.06725|14.98584|16.31565|20.10933 |   0\n",
      "75.700|12.15976|17.07896|19.18465|24.00480 |   0\n"
     ]
    }
   ],
   "source": [
    "# Inferentia\n",
    "load_tester(num_thread, endpoints['inferentia'], 'doggo.jpg', 'boto3')"
   ]
  },
  {
   "cell_type": "markdown",
   "metadata": {},
   "source": [
    "The best results so far! Up to 290 TPS at the same latency percentiles than GPU, or lower. All of this for a fraction of the cost."
   ]
  },
  {
   "cell_type": "markdown",
   "metadata": {},
   "source": [
    "# Reviewing the results\n",
    "\n",
    "Let's plot the results obtained from the previous tests, by taking into account the last printed line of each load testing. We will ignore the error rate, and take into account the TPS obtained with our tests dividing it by the cost of the machine in the region of testing (DUB) - a metric we will call \"throughput per dollar\"."
   ]
  },
  {
   "cell_type": "code",
   "execution_count": 33,
   "metadata": {},
   "outputs": [
    {
     "name": "stderr",
     "output_type": "stream",
     "text": [
      "INFO:numexpr.utils:NumExpr defaulting to 2 threads.\n"
     ]
    },
    {
     "data": {
      "image/png": "[encoded data removed]",
      "text/plain": [
       "<Figure size 432x288 with 1 Axes>"
      ]
     },
     "metadata": {
      "needs_background": "light"
     },
     "output_type": "display_data"
    }
   ],
   "source": [
    "import matplotlib.pyplot as plt\n",
    "from io import StringIO\n",
    "import pandas as pd\n",
    "\n",
    "data = StringIO('''\n",
    "experiment|TPS|p50|cost/hour\n",
    "c5|5.900|167.96876|0.23\n",
    "c5 + Neo|13.200|75.25020|0.23\n",
    "g4dn|76.200|11.75612|0.821\n",
    "g4dn + Neo|144.400|5.83435|0.821\n",
    "inf1|275.700|3.26554|0.33\n",
    "''')\n",
    "\n",
    "df = pd.read_csv(data, sep='|')\n",
    "df['throughput per dollar'] = df['TPS']/df['cost/hour']\n",
    "\n",
    "ax = df.plot(x=\"experiment\", y=\"TPS\", legend=False, linewidth=3)\n",
    "df.plot(x=\"experiment\", y=\"p50\", ax=ax, legend=False, color=\"r\", linewidth=3)\n",
    "df.plot(x=\"experiment\", y=\"throughput per dollar\", ax=ax, legend=False, color=\"g\", linewidth=3)\n",
    "for x in df.experiment:\n",
    "    plt.axvline(x=x, ls='--', color='black', linewidth=1)\n",
    "ax.figure.legend()\n",
    "plt.rcParams[\"figure.figsize\"] = (8,5)\n",
    "plt.show()"
   ]
  },
  {
   "cell_type": "markdown",
   "metadata": {},
   "source": [
    "The results speak for themselves. The `inf1` instance proves extremely competitive, thanks to its high TPS, incredibly low latency and undeniable value. Compiling the model for a GPU just like the `g4dn` is also a very interesting approach."
   ]
  },
  {
   "cell_type": "markdown",
   "metadata": {},
   "source": [
    "# Clean-up"
   ]
  },
  {
   "cell_type": "code",
   "execution_count": 34,
   "metadata": {},
   "outputs": [
    {
     "name": "stderr",
     "output_type": "stream",
     "text": [
      "INFO:sagemaker:Deleting endpoint configuration with name: pytorch-inference-2021-08-31-17-22-05-881\n",
      "INFO:sagemaker:Deleting endpoint with name: pytorch-inference-2021-08-31-17-22-05-881\n",
      "INFO:sagemaker:Deleting endpoint configuration with name: pytorch-inference-2021-08-31-17-28-56-902\n",
      "INFO:sagemaker:Deleting endpoint with name: pytorch-inference-2021-08-31-17-28-56-902\n",
      "INFO:sagemaker:Deleting endpoint configuration with name: sagemaker-inference-pytorch-ml-c5-2021-08-31-17-45-00-378\n",
      "INFO:sagemaker:Deleting endpoint with name: sagemaker-inference-pytorch-ml-c5-2021-08-31-17-45-00-378\n",
      "INFO:sagemaker:Deleting endpoint configuration with name: sagemaker-inference-pytorch-ml-g4dn-2021-08-31-17-57-34-897\n",
      "INFO:sagemaker:Deleting endpoint with name: sagemaker-inference-pytorch-ml-g4dn-2021-08-31-17-57-34-897\n",
      "INFO:sagemaker:Deleting endpoint configuration with name: sagemaker-neo-pytorch-ml-inf1-2021-08-31-18-16-16-641\n",
      "INFO:sagemaker:Deleting endpoint with name: sagemaker-neo-pytorch-ml-inf1-2021-08-31-18-16-16-641\n"
     ]
    }
   ],
   "source": [
    "for endpoint in endpoints:\n",
    "    pred = sagemaker.predictor.Predictor(endpoint_name=endpoints[endpoint])\n",
    "    pred.delete_endpoint()"
   ]
  }
 ],
 "metadata": {
  "interpreter": {
   "hash": "ac2eaa0ea0ebeafcc7822e65e46aa9d4f966f30b695406963e145ea4a91cd4fc"
  },
  "kernelspec": {
   "display_name": "Python 3 (PyTorch 1.6 Python 3.6 CPU Optimized)",
   "language": "python",
   "name": "python3__SAGEMAKER_INTERNAL__arn:aws:sagemaker:us-east-1:081325390199:image/pytorch-1.6-cpu-py36-ubuntu16.04-v1"
  },
  "language_info": {
   "codemirror_mode": {
    "name": "ipython",
    "version": 3
   },
   "file_extension": ".py",
   "mimetype": "text/x-python",
   "name": "python",
   "nbconvert_exporter": "python",
   "pygments_lexer": "ipython3",
   "version": "3.6.13"
  }
 },
 "nbformat": 4,
 "nbformat_minor": 4
}
